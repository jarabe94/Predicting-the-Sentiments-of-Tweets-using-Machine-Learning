{
  "cells": [
    {
      "cell_type": "markdown",
      "source": [
        "# **PREDICTING THE SENTIMENTS OF TWEETS USING MACHINE LEARNING**"
      ],
      "metadata": {
        "id": "jHgHO6dSU5Y4"
      }
    },
    {
      "cell_type": "markdown",
      "metadata": {
        "id": "zPmZUB_bK9cR"
      },
      "source": [
        "**TABLE OF CONTENT**"
      ]
    },
    {
      "cell_type": "markdown",
      "metadata": {
        "colab_type": "toc",
        "id": "8QkGhITxKzzC"
      },
      "source": [
        ">[Load the data](#scrollTo=tU20oOfA0fxB)\n",
        "\n",
        ">[Exploratory Data Analysis](#scrollTo=qvh5VNwI2ah4)\n",
        "\n",
        ">>[2.1. Visualize the Distribution of the Target Variable](#scrollTo=d3XW69Xx3DFx)\n",
        "\n",
        ">>[2.2. Generate a Word Cloud](#scrollTo=7heUuDGO3Omy)\n",
        "\n",
        ">>[2.3. Check for missing values](#scrollTo=64IjaIKX3dYm)\n",
        "\n",
        ">>[2.4. Visualize Text Length Distribution](#scrollTo=BdOOsYzk3gEY)\n",
        "\n",
        ">>[2.5. EDA Insights](#scrollTo=dyU5t3xN7vCp)\n",
        "\n",
        ">[Data Preprocessing](#scrollTo=B-8jw4bH78U_)\n",
        "\n",
        ">[Model Building](#scrollTo=fUG9pxICICSJ)\n",
        "\n",
        ">>[4.1. Logistic Regression](#scrollTo=cZeb5DBNNMKM)\n",
        "\n",
        ">>[4.2. Naive Bayes](#scrollTo=F4RdXN32NYm5)\n",
        "\n",
        ">>[4.3. Linear Support Vector Machine](#scrollTo=YHolrJRsNcBu)\n",
        "\n",
        ">>[4.4. Random Forest](#scrollTo=HmW8NQl0NgOU)\n",
        "\n",
        ">>[4.5 SGD Classifier with logistic regression setting](#scrollTo=pajlmNOCrdEn)\n",
        "\n",
        ">>[4.6. ANN](#scrollTo=bOccLJvoeYQa)\n",
        "\n",
        ">>[4.7. VADER Lexicon](#scrollTo=3EMdKtMxNgBw)\n",
        "\n",
        ">[Model Evaluation](#scrollTo=WphXuwSnTN5s)\n",
        "\n",
        ">[Model Optimization](#scrollTo=7l_8awzQYHii)\n",
        "\n",
        ">[Sentiment Predictions](#scrollTo=DxQu040NFUyd)\n",
        "\n",
        ">[Conclusion](#scrollTo=WxEFr6Ku7vrG)\n",
        "\n"
      ]
    },
    {
      "cell_type": "markdown",
      "metadata": {
        "id": "tU20oOfA0fxB"
      },
      "source": [
        "#1. Load the data"
      ]
    },
    {
      "cell_type": "markdown",
      "metadata": {
        "id": "DZ7K8AQI1BIw"
      },
      "source": [
        "In this section we will:\n",
        "- Connect to Kaggle using an API and download the dataset.\n",
        "- Import necessary libraries for the project.\n",
        "- Load the dataset into a pandas DataFrame to examine its structure.\n",
        "- Identify columns and data types, the target variable and the features available for prediction."
      ]
    },
    {
      "cell_type": "code",
      "execution_count": null,
      "metadata": {
        "id": "OCFbTQBMz8EI"
      },
      "outputs": [],
      "source": [
        "import os\n",
        "os.environ['KAGGLE_CONFIG_DIR'] = '/content'"
      ]
    },
    {
      "cell_type": "code",
      "execution_count": null,
      "metadata": {
        "colab": {
          "base_uri": "https://localhost:8080/"
        },
        "id": "fHAjaNlYRr-D",
        "outputId": "3d220542-aadf-401d-a85c-0201425aa28b"
      },
      "outputs": [
        {
          "output_type": "stream",
          "name": "stdout",
          "text": [
            "Warning: Your Kaggle API key is readable by other users on this system! To fix this, you can run 'chmod 600 /content/kaggle.json'\n",
            "Dataset URL: https://www.kaggle.com/datasets/kazanova/sentiment140\n",
            "License(s): other\n",
            "Downloading sentiment140.zip to /content\n",
            " 94% 76.0M/80.9M [00:00<00:00, 101MB/s]\n",
            "100% 80.9M/80.9M [00:00<00:00, 104MB/s]\n"
          ]
        }
      ],
      "source": [
        "!kaggle datasets download -d kazanova/sentiment140"
      ]
    },
    {
      "cell_type": "code",
      "execution_count": null,
      "metadata": {
        "colab": {
          "base_uri": "https://localhost:8080/"
        },
        "id": "JXwcJAGQRvXk",
        "outputId": "b1900509-7c24-4d14-b0ff-f31f4801b352"
      },
      "outputs": [
        {
          "output_type": "stream",
          "name": "stdout",
          "text": [
            "Archive:  sentiment140.zip\n",
            "  inflating: training.1600000.processed.noemoticon.csv  \n"
          ]
        }
      ],
      "source": [
        "!unzip \\*.zip && rm *.zip"
      ]
    },
    {
      "cell_type": "code",
      "execution_count": 1,
      "metadata": {
        "id": "A1efYCjFRx17"
      },
      "outputs": [],
      "source": [
        "# Importing important libraries\n",
        "import pandas as pd\n",
        "import numpy as np\n",
        "import re\n",
        "import seaborn as sns\n",
        "import matplotlib.pyplot as plt\n",
        "from matplotlib import style\n",
        "style.use('ggplot')\n",
        "import nltk\n",
        "from wordcloud import WordCloud"
      ]
    },
    {
      "cell_type": "code",
      "execution_count": null,
      "metadata": {
        "id": "wzarejLDR3Sn"
      },
      "outputs": [],
      "source": [
        "# Creating the dataframe\n",
        "data = pd.read_csv(\"training.1600000.processed.noemoticon.csv\", encoding = ('ISO-8859-1'), names=['label', 'tweet_id', 'timestamp', 'query', 'user_id', 'text'])"
      ]
    },
    {
      "cell_type": "code",
      "source": [
        "# Replace the values of positive sentiment from 4 to 1\n",
        "data['label'] = data['label'].replace(4,1)"
      ],
      "metadata": {
        "id": "Si7sbwUXzM0j"
      },
      "execution_count": null,
      "outputs": []
    },
    {
      "cell_type": "code",
      "source": [
        "# Display the first 5 rows of the 'data' DataFrame\n",
        "data.head(5)"
      ],
      "metadata": {
        "colab": {
          "base_uri": "https://localhost:8080/",
          "height": 206
        },
        "id": "U_pOLg4yFA6A",
        "outputId": "825662f1-3a3b-477b-a326-16dc7eb224bc"
      },
      "execution_count": null,
      "outputs": [
        {
          "output_type": "execute_result",
          "data": {
            "text/plain": [
              "   label    tweet_id                     timestamp     query          user_id  \\\n",
              "0      0  1467810369  Mon Apr 06 22:19:45 PDT 2009  NO_QUERY  _TheSpecialOne_   \n",
              "1      0  1467810672  Mon Apr 06 22:19:49 PDT 2009  NO_QUERY    scotthamilton   \n",
              "2      0  1467810917  Mon Apr 06 22:19:53 PDT 2009  NO_QUERY         mattycus   \n",
              "3      0  1467811184  Mon Apr 06 22:19:57 PDT 2009  NO_QUERY          ElleCTF   \n",
              "4      0  1467811193  Mon Apr 06 22:19:57 PDT 2009  NO_QUERY           Karoli   \n",
              "\n",
              "                                                text  \n",
              "0  @switchfoot http://twitpic.com/2y1zl - Awww, t...  \n",
              "1  is upset that he can't update his Facebook by ...  \n",
              "2  @Kenichan I dived many times for the ball. Man...  \n",
              "3    my whole body feels itchy and like its on fire   \n",
              "4  @nationwideclass no, it's not behaving at all....  "
            ],
            "text/html": [
              "\n",
              "  <div id=\"df-33a046c6-c5bc-4de6-9102-2f5bfde632c5\" class=\"colab-df-container\">\n",
              "    <div>\n",
              "<style scoped>\n",
              "    .dataframe tbody tr th:only-of-type {\n",
              "        vertical-align: middle;\n",
              "    }\n",
              "\n",
              "    .dataframe tbody tr th {\n",
              "        vertical-align: top;\n",
              "    }\n",
              "\n",
              "    .dataframe thead th {\n",
              "        text-align: right;\n",
              "    }\n",
              "</style>\n",
              "<table border=\"1\" class=\"dataframe\">\n",
              "  <thead>\n",
              "    <tr style=\"text-align: right;\">\n",
              "      <th></th>\n",
              "      <th>label</th>\n",
              "      <th>tweet_id</th>\n",
              "      <th>timestamp</th>\n",
              "      <th>query</th>\n",
              "      <th>user_id</th>\n",
              "      <th>text</th>\n",
              "    </tr>\n",
              "  </thead>\n",
              "  <tbody>\n",
              "    <tr>\n",
              "      <th>0</th>\n",
              "      <td>0</td>\n",
              "      <td>1467810369</td>\n",
              "      <td>Mon Apr 06 22:19:45 PDT 2009</td>\n",
              "      <td>NO_QUERY</td>\n",
              "      <td>_TheSpecialOne_</td>\n",
              "      <td>@switchfoot http://twitpic.com/2y1zl - Awww, t...</td>\n",
              "    </tr>\n",
              "    <tr>\n",
              "      <th>1</th>\n",
              "      <td>0</td>\n",
              "      <td>1467810672</td>\n",
              "      <td>Mon Apr 06 22:19:49 PDT 2009</td>\n",
              "      <td>NO_QUERY</td>\n",
              "      <td>scotthamilton</td>\n",
              "      <td>is upset that he can't update his Facebook by ...</td>\n",
              "    </tr>\n",
              "    <tr>\n",
              "      <th>2</th>\n",
              "      <td>0</td>\n",
              "      <td>1467810917</td>\n",
              "      <td>Mon Apr 06 22:19:53 PDT 2009</td>\n",
              "      <td>NO_QUERY</td>\n",
              "      <td>mattycus</td>\n",
              "      <td>@Kenichan I dived many times for the ball. Man...</td>\n",
              "    </tr>\n",
              "    <tr>\n",
              "      <th>3</th>\n",
              "      <td>0</td>\n",
              "      <td>1467811184</td>\n",
              "      <td>Mon Apr 06 22:19:57 PDT 2009</td>\n",
              "      <td>NO_QUERY</td>\n",
              "      <td>ElleCTF</td>\n",
              "      <td>my whole body feels itchy and like its on fire</td>\n",
              "    </tr>\n",
              "    <tr>\n",
              "      <th>4</th>\n",
              "      <td>0</td>\n",
              "      <td>1467811193</td>\n",
              "      <td>Mon Apr 06 22:19:57 PDT 2009</td>\n",
              "      <td>NO_QUERY</td>\n",
              "      <td>Karoli</td>\n",
              "      <td>@nationwideclass no, it's not behaving at all....</td>\n",
              "    </tr>\n",
              "  </tbody>\n",
              "</table>\n",
              "</div>\n",
              "    <div class=\"colab-df-buttons\">\n",
              "\n",
              "  <div class=\"colab-df-container\">\n",
              "    <button class=\"colab-df-convert\" onclick=\"convertToInteractive('df-33a046c6-c5bc-4de6-9102-2f5bfde632c5')\"\n",
              "            title=\"Convert this dataframe to an interactive table.\"\n",
              "            style=\"display:none;\">\n",
              "\n",
              "  <svg xmlns=\"http://www.w3.org/2000/svg\" height=\"24px\" viewBox=\"0 -960 960 960\">\n",
              "    <path d=\"M120-120v-720h720v720H120Zm60-500h600v-160H180v160Zm220 220h160v-160H400v160Zm0 220h160v-160H400v160ZM180-400h160v-160H180v160Zm440 0h160v-160H620v160ZM180-180h160v-160H180v160Zm440 0h160v-160H620v160Z\"/>\n",
              "  </svg>\n",
              "    </button>\n",
              "\n",
              "  <style>\n",
              "    .colab-df-container {\n",
              "      display:flex;\n",
              "      gap: 12px;\n",
              "    }\n",
              "\n",
              "    .colab-df-convert {\n",
              "      background-color: #E8F0FE;\n",
              "      border: none;\n",
              "      border-radius: 50%;\n",
              "      cursor: pointer;\n",
              "      display: none;\n",
              "      fill: #1967D2;\n",
              "      height: 32px;\n",
              "      padding: 0 0 0 0;\n",
              "      width: 32px;\n",
              "    }\n",
              "\n",
              "    .colab-df-convert:hover {\n",
              "      background-color: #E2EBFA;\n",
              "      box-shadow: 0px 1px 2px rgba(60, 64, 67, 0.3), 0px 1px 3px 1px rgba(60, 64, 67, 0.15);\n",
              "      fill: #174EA6;\n",
              "    }\n",
              "\n",
              "    .colab-df-buttons div {\n",
              "      margin-bottom: 4px;\n",
              "    }\n",
              "\n",
              "    [theme=dark] .colab-df-convert {\n",
              "      background-color: #3B4455;\n",
              "      fill: #D2E3FC;\n",
              "    }\n",
              "\n",
              "    [theme=dark] .colab-df-convert:hover {\n",
              "      background-color: #434B5C;\n",
              "      box-shadow: 0px 1px 3px 1px rgba(0, 0, 0, 0.15);\n",
              "      filter: drop-shadow(0px 1px 2px rgba(0, 0, 0, 0.3));\n",
              "      fill: #FFFFFF;\n",
              "    }\n",
              "  </style>\n",
              "\n",
              "    <script>\n",
              "      const buttonEl =\n",
              "        document.querySelector('#df-33a046c6-c5bc-4de6-9102-2f5bfde632c5 button.colab-df-convert');\n",
              "      buttonEl.style.display =\n",
              "        google.colab.kernel.accessAllowed ? 'block' : 'none';\n",
              "\n",
              "      async function convertToInteractive(key) {\n",
              "        const element = document.querySelector('#df-33a046c6-c5bc-4de6-9102-2f5bfde632c5');\n",
              "        const dataTable =\n",
              "          await google.colab.kernel.invokeFunction('convertToInteractive',\n",
              "                                                    [key], {});\n",
              "        if (!dataTable) return;\n",
              "\n",
              "        const docLinkHtml = 'Like what you see? Visit the ' +\n",
              "          '<a target=\"_blank\" href=https://colab.research.google.com/notebooks/data_table.ipynb>data table notebook</a>'\n",
              "          + ' to learn more about interactive tables.';\n",
              "        element.innerHTML = '';\n",
              "        dataTable['output_type'] = 'display_data';\n",
              "        await google.colab.output.renderOutput(dataTable, element);\n",
              "        const docLink = document.createElement('div');\n",
              "        docLink.innerHTML = docLinkHtml;\n",
              "        element.appendChild(docLink);\n",
              "      }\n",
              "    </script>\n",
              "  </div>\n",
              "\n",
              "\n",
              "<div id=\"df-a8086fd3-a7a3-4611-aa47-57b6fb16d3b6\">\n",
              "  <button class=\"colab-df-quickchart\" onclick=\"quickchart('df-a8086fd3-a7a3-4611-aa47-57b6fb16d3b6')\"\n",
              "            title=\"Suggest charts\"\n",
              "            style=\"display:none;\">\n",
              "\n",
              "<svg xmlns=\"http://www.w3.org/2000/svg\" height=\"24px\"viewBox=\"0 0 24 24\"\n",
              "     width=\"24px\">\n",
              "    <g>\n",
              "        <path d=\"M19 3H5c-1.1 0-2 .9-2 2v14c0 1.1.9 2 2 2h14c1.1 0 2-.9 2-2V5c0-1.1-.9-2-2-2zM9 17H7v-7h2v7zm4 0h-2V7h2v10zm4 0h-2v-4h2v4z\"/>\n",
              "    </g>\n",
              "</svg>\n",
              "  </button>\n",
              "\n",
              "<style>\n",
              "  .colab-df-quickchart {\n",
              "      --bg-color: #E8F0FE;\n",
              "      --fill-color: #1967D2;\n",
              "      --hover-bg-color: #E2EBFA;\n",
              "      --hover-fill-color: #174EA6;\n",
              "      --disabled-fill-color: #AAA;\n",
              "      --disabled-bg-color: #DDD;\n",
              "  }\n",
              "\n",
              "  [theme=dark] .colab-df-quickchart {\n",
              "      --bg-color: #3B4455;\n",
              "      --fill-color: #D2E3FC;\n",
              "      --hover-bg-color: #434B5C;\n",
              "      --hover-fill-color: #FFFFFF;\n",
              "      --disabled-bg-color: #3B4455;\n",
              "      --disabled-fill-color: #666;\n",
              "  }\n",
              "\n",
              "  .colab-df-quickchart {\n",
              "    background-color: var(--bg-color);\n",
              "    border: none;\n",
              "    border-radius: 50%;\n",
              "    cursor: pointer;\n",
              "    display: none;\n",
              "    fill: var(--fill-color);\n",
              "    height: 32px;\n",
              "    padding: 0;\n",
              "    width: 32px;\n",
              "  }\n",
              "\n",
              "  .colab-df-quickchart:hover {\n",
              "    background-color: var(--hover-bg-color);\n",
              "    box-shadow: 0 1px 2px rgba(60, 64, 67, 0.3), 0 1px 3px 1px rgba(60, 64, 67, 0.15);\n",
              "    fill: var(--button-hover-fill-color);\n",
              "  }\n",
              "\n",
              "  .colab-df-quickchart-complete:disabled,\n",
              "  .colab-df-quickchart-complete:disabled:hover {\n",
              "    background-color: var(--disabled-bg-color);\n",
              "    fill: var(--disabled-fill-color);\n",
              "    box-shadow: none;\n",
              "  }\n",
              "\n",
              "  .colab-df-spinner {\n",
              "    border: 2px solid var(--fill-color);\n",
              "    border-color: transparent;\n",
              "    border-bottom-color: var(--fill-color);\n",
              "    animation:\n",
              "      spin 1s steps(1) infinite;\n",
              "  }\n",
              "\n",
              "  @keyframes spin {\n",
              "    0% {\n",
              "      border-color: transparent;\n",
              "      border-bottom-color: var(--fill-color);\n",
              "      border-left-color: var(--fill-color);\n",
              "    }\n",
              "    20% {\n",
              "      border-color: transparent;\n",
              "      border-left-color: var(--fill-color);\n",
              "      border-top-color: var(--fill-color);\n",
              "    }\n",
              "    30% {\n",
              "      border-color: transparent;\n",
              "      border-left-color: var(--fill-color);\n",
              "      border-top-color: var(--fill-color);\n",
              "      border-right-color: var(--fill-color);\n",
              "    }\n",
              "    40% {\n",
              "      border-color: transparent;\n",
              "      border-right-color: var(--fill-color);\n",
              "      border-top-color: var(--fill-color);\n",
              "    }\n",
              "    60% {\n",
              "      border-color: transparent;\n",
              "      border-right-color: var(--fill-color);\n",
              "    }\n",
              "    80% {\n",
              "      border-color: transparent;\n",
              "      border-right-color: var(--fill-color);\n",
              "      border-bottom-color: var(--fill-color);\n",
              "    }\n",
              "    90% {\n",
              "      border-color: transparent;\n",
              "      border-bottom-color: var(--fill-color);\n",
              "    }\n",
              "  }\n",
              "</style>\n",
              "\n",
              "  <script>\n",
              "    async function quickchart(key) {\n",
              "      const quickchartButtonEl =\n",
              "        document.querySelector('#' + key + ' button');\n",
              "      quickchartButtonEl.disabled = true;  // To prevent multiple clicks.\n",
              "      quickchartButtonEl.classList.add('colab-df-spinner');\n",
              "      try {\n",
              "        const charts = await google.colab.kernel.invokeFunction(\n",
              "            'suggestCharts', [key], {});\n",
              "      } catch (error) {\n",
              "        console.error('Error during call to suggestCharts:', error);\n",
              "      }\n",
              "      quickchartButtonEl.classList.remove('colab-df-spinner');\n",
              "      quickchartButtonEl.classList.add('colab-df-quickchart-complete');\n",
              "    }\n",
              "    (() => {\n",
              "      let quickchartButtonEl =\n",
              "        document.querySelector('#df-a8086fd3-a7a3-4611-aa47-57b6fb16d3b6 button');\n",
              "      quickchartButtonEl.style.display =\n",
              "        google.colab.kernel.accessAllowed ? 'block' : 'none';\n",
              "    })();\n",
              "  </script>\n",
              "</div>\n",
              "\n",
              "    </div>\n",
              "  </div>\n"
            ],
            "application/vnd.google.colaboratory.intrinsic+json": {
              "type": "dataframe",
              "variable_name": "data"
            }
          },
          "metadata": {},
          "execution_count": 7
        }
      ]
    },
    {
      "cell_type": "markdown",
      "metadata": {
        "id": "_bW1zwK-1WnP"
      },
      "source": [
        "The dataset has been successfully loaded, and it consists of six columns. Based on the initial examination, here's a brief overview:\n",
        "\n",
        "- label: Appears to be the target variable with integer values, likely indicating sentiment (e.g., 0 for negative, 1 for positive).\n",
        "- tweet_id: Contains the tweet ID (also an integer).\n",
        "- timestamp: Contains timestamps in a readable format.\n",
        "- query: Has a constant value \"NO_QUERY\"; its purpose is unclear with only a reference to the presence of query (Lyx). However, it does not seem relevant for sentiment analysis.\n",
        "- user_id: Contains usernames.\n",
        "- text: Contains the text data (tweet), which is what we're most interested in for sentiment analysis.\n",
        "\n",
        "*The data types are as follows:*\n",
        "\n",
        "Integer for columns label and tweet_id, and object (string) for columns timestamp to user_id.\n",
        "Given this structure, our target variable for sentiment analysis is in Column label, and the feature available for prediction is the text data in Column text."
      ]
    },
    {
      "cell_type": "markdown",
      "metadata": {
        "id": "qvh5VNwI2ah4"
      },
      "source": [
        "#2. Exploratory Data Analysis"
      ]
    },
    {
      "cell_type": "markdown",
      "metadata": {
        "id": "EmbBOoCu2eKo"
      },
      "source": [
        "1. Visualize the Distribution of the Target Variable: This helps us assess the balance or imbalance of sentiment within our dataset.\n",
        "2. Explore Text Data: Identify common words and phrases to understand the general sentiment and topics by generating word clouds.\n",
        "3. Handle Missing Values: Check for and handle any missing values in the dataset, especially in the text data and the target variable.\n",
        "4. Visualize Text Length Distribution: Understanding the length of the tweets might give insights into the dataset's characteristics.\n",
        "\n"
      ]
    },
    {
      "cell_type": "markdown",
      "metadata": {
        "id": "d3XW69Xx3DFx"
      },
      "source": [
        "##2.1. Visualize the Distribution of the Target Variable"
      ]
    },
    {
      "cell_type": "markdown",
      "metadata": {
        "id": "qnNMqayy4HjJ"
      },
      "source": [
        "Balanced vs. Unbalanced: If the counts for each sentiment category are roughly equal, the dataset is balanced. This is ideal for training models. However, if one category dominates, the dataset would be unbalanced and we would need strategies to handle it, such as oversampling, undersampling, or using weighted loss functions during model training."
      ]
    },
    {
      "cell_type": "code",
      "execution_count": null,
      "metadata": {
        "colab": {
          "base_uri": "https://localhost:8080/",
          "height": 477
        },
        "id": "1jFLvtFh2aJp",
        "outputId": "691644af-cf88-4e9b-c902-212e9d5a35aa"
      },
      "outputs": [
        {
          "output_type": "display_data",
          "data": {
            "text/plain": [
              "<Figure size 640x480 with 1 Axes>"
            ],
            "image/png": "[encoded data removed]"
          },
          "metadata": {}
        }
      ],
      "source": [
        "import seaborn as sns\n",
        "import matplotlib.pyplot as plt\n",
        "\n",
        "# Assuming 'data' is your DataFrame and column label is the target variable\n",
        "sns.countplot(x=data['label'])\n",
        "plt.title('Distribution of Sentiments')\n",
        "plt.xlabel('Sentiment')\n",
        "plt.ylabel('Count')\n",
        "plt.show()"
      ]
    },
    {
      "cell_type": "markdown",
      "metadata": {
        "id": "7heUuDGO3Omy"
      },
      "source": [
        "##2.2. Generate a Word Cloud"
      ]
    },
    {
      "cell_type": "markdown",
      "metadata": {
        "id": "Uro6jEZE4LlN"
      },
      "source": [
        "Common Words and Themes: A word cloud will visually emphasize the most common words in our dataset. Frequent words that are not stop words can give us insights into the common themes in the text data. If certain words are overly dominant, it may indicate common phrases or topics specific to the dataset's context."
      ]
    },
    {
      "cell_type": "code",
      "execution_count": null,
      "metadata": {
        "colab": {
          "base_uri": "https://localhost:8080/",
          "height": 424
        },
        "id": "ED3eCE_H3J9x",
        "outputId": "5f45dbc3-b11d-4901-f72d-d2d3bfd612aa"
      },
      "outputs": [
        {
          "output_type": "display_data",
          "data": {
            "text/plain": [
              "<Figure size 1000x700 with 1 Axes>"
            ],
            "image/png": "[encoded data removed]"
          },
          "metadata": {}
        }
      ],
      "source": [
        "from wordcloud import WordCloud\n",
        "\n",
        "# Combine all text data into a single string\n",
        "text = \" \".join(review for review in data['text'])\n",
        "\n",
        "# Generate a word cloud image\n",
        "wordcloud = WordCloud(background_color=\"white\").generate(text)\n",
        "\n",
        "# Display the generated image:\n",
        "plt.figure(figsize=(10, 7))\n",
        "plt.imshow(wordcloud, interpolation='bilinear')\n",
        "plt.axis('off')\n",
        "plt.show()"
      ]
    },
    {
      "cell_type": "markdown",
      "metadata": {
        "id": "64IjaIKX3dYm"
      },
      "source": [
        "##2.3. Check for missing values"
      ]
    },
    {
      "cell_type": "markdown",
      "metadata": {
        "id": "v1pnIfGk4Mtf"
      },
      "source": [
        "Handling Missing Data: If certain columns, especially the text data or target variable, have missing values, we will need to decide how to handle them. Common strategies include removing rows with missing values or applying imputation techniques based on the data distribution."
      ]
    },
    {
      "cell_type": "code",
      "execution_count": null,
      "metadata": {
        "colab": {
          "base_uri": "https://localhost:8080/"
        },
        "id": "zp8XW9P_3Ypg",
        "outputId": "3ec843ed-0643-4a11-ea6b-05aadf961fd7"
      },
      "outputs": [
        {
          "output_type": "stream",
          "name": "stdout",
          "text": [
            "label        0\n",
            "tweet_id     0\n",
            "timestamp    0\n",
            "query        0\n",
            "user_id      0\n",
            "text         0\n",
            "dtype: int64\n"
          ]
        }
      ],
      "source": [
        "missing_values = data.isnull().sum()\n",
        "print(missing_values)"
      ]
    },
    {
      "cell_type": "markdown",
      "metadata": {
        "id": "BdOOsYzk3gEY"
      },
      "source": [
        "##2.4. Visualize Text Length Distribution"
      ]
    },
    {
      "cell_type": "markdown",
      "metadata": {
        "id": "97KY3t9D4PSu"
      },
      "source": [
        "Insights from Text Length:\n",
        "- Mean and Median: These measures give us an idea of the average length of text in our dataset. A large difference between the mean and median may indicate outliers or a skewed distribution.\n",
        "- Min and Max: The minimum and maximum lengths can highlight if any texts are unusually short or long, which could be labeled as outliers or errors.\n",
        "- Standard Deviation: A high standard deviation indicates a wide range of text length, while a low standard deviation suggests that most texts are of similar length."
      ]
    },
    {
      "cell_type": "code",
      "source": [
        "# Calculate text length statistics for each tweet\n",
        "text_length_stats = data.iloc[:, 5].apply(len).describe()\n",
        "print(text_length_stats)"
      ],
      "metadata": {
        "colab": {
          "base_uri": "https://localhost:8080/"
        },
        "id": "A8dpaqptFS8c",
        "outputId": "e4f1c67c-741f-4bb8-e293-9cad347ba2c0"
      },
      "execution_count": null,
      "outputs": [
        {
          "output_type": "stream",
          "name": "stdout",
          "text": [
            "count    1.600000e+06\n",
            "mean     7.409011e+01\n",
            "std      3.644114e+01\n",
            "min      6.000000e+00\n",
            "25%      4.400000e+01\n",
            "50%      6.900000e+01\n",
            "75%      1.040000e+02\n",
            "max      3.740000e+02\n",
            "Name: text, dtype: float64\n"
          ]
        }
      ]
    },
    {
      "cell_type": "markdown",
      "metadata": {
        "id": "dyU5t3xN7vCp"
      },
      "source": [
        "##2.5. EDA Insights"
      ]
    },
    {
      "cell_type": "markdown",
      "metadata": {
        "id": "tmpTQ6v96yHI"
      },
      "source": [
        "1. Sentiment Distribution:\n",
        "  - The distribution of sentiments is balanced with two distinct classes, indicating positive and negative sentiments.\n",
        "  - Each class has roughly the same number of entries, suggesting that the dataset is well-suited for training classification models without the need for sampling techniques to address class imbalance.\n",
        "\n",
        "2. Missing Values:\n",
        "  - There are no missing values in any of the columns, which means there is no need for imputation or removal of missing data.\n",
        "\n",
        "3. Word Cloud:\n",
        "  - The word cloud suggests a mix of positive and negative words, with positive words like \"love,\" \"thank,\" and \"good\" appearing prominently, as well as negative words such as \"miss\" and \"hate.\"\n",
        "  - Common terms related to social media interactions like \"twitter,\" \"twitpic\", and \"facebook\" are also visible, which is expected given the context of the data.\n",
        "  - Words related to daily life and personal experiences, such as \"work\", \"going\", \"today\", \"back\", and \"time\", indicate the personal nature of the text content.\n",
        "\n",
        "4. Text Length Statistics:\n",
        "  - The average length of a text entry is around 74 characters, with a standard deviation of about 36 characters, suggesting moderate variance in text length.\n",
        "  - The minimum text length is very short at only 6 characters, and the maximum length is 374 characters, which is close to the historical 280-character limit of Twitter, suggesting that the text data is sourced from a platform with a character limit.\n",
        "  - The 25th percentile is at 44 characters, the median (50th percentile) is at 69 characters, and the 75th percentile is at 104 characters, indicating a right-skewed distribution where most texts are shorter rather than longer."
      ]
    },
    {
      "cell_type": "markdown",
      "metadata": {
        "id": "B-8jw4bH78U_"
      },
      "source": [
        "#3. Data Preprocessing"
      ]
    },
    {
      "cell_type": "markdown",
      "metadata": {
        "id": "octcmB9v8XYA"
      },
      "source": [
        "Data preprocessing involves cleaning and preparing the text data for modeling. Here's what we'll do for the data preprocessing step:\n",
        "\n",
        "- Define emojis and chat words dictionaries: Emojis and chat words dictionaries will be used in the preprocessing functions.\n",
        "- Remove User Mentions and Hashtags: User mentions (e.g., \"@username\") and hashtags (e.g., \"#example\") are common in social media data but do not contribute to the analysis.\n",
        "- Replace Emojis: Emojis can convey sentiments or emotions, but they can be challenging for machine learning models to interpret directly, therefore we are going to replace them with the word of the sentiment they represent.\n",
        "- Replace Chatwords: Chatwords or internet slangs (e.g., \"lol\", \"brb\") may not be recognized by standard language processing tools.\n",
        "- Remove Punctuation: Punctuation marks such as periods, commas, and exclamation points may not carry significant meaning for some tasks and can be removed from the text using string manipulation functions or regular expressions.\n",
        "- Remove Stopwords: Stopwords are common words like \"the\", \"is\", \"and\", etc., that occur frequently in text but often do not contribute much to the overall meaning.\n",
        "- Remove URL: URLs often appear in text data but may not be relevant to the analysis.\n",
        "- Lemmatization: Reduce words to their root form. Lemmatization is typically more useful than Stemming as it converts words to their meaningful base form.\n",
        "- Vectorization: Convert text to a numerical format that machine learning models can understand using TF-IDF vectorization.\n",
        "- Split the Data: Divide the dataset into training (80%) and testing (20%) sets."
      ]
    },
    {
      "cell_type": "code",
      "execution_count": null,
      "metadata": {
        "id": "uhuSZIymrMEo"
      },
      "outputs": [],
      "source": [
        "# Import all necessary libraries\n",
        "import pandas as pd\n",
        "import re\n",
        "from nltk.corpus import stopwords\n",
        "from nltk.stem import WordNetLemmatizer\n",
        "from sklearn.feature_extraction.text import TfidfVectorizer\n",
        "import nltk"
      ]
    },
    {
      "cell_type": "code",
      "execution_count": null,
      "metadata": {
        "colab": {
          "base_uri": "https://localhost:8080/"
        },
        "id": "yCh7NQOjrZjm",
        "outputId": "76a464b1-f099-4d0b-ff57-dd086316068a"
      },
      "outputs": [
        {
          "output_type": "stream",
          "name": "stderr",
          "text": [
            "[nltk_data] Downloading package stopwords to /root/nltk_data...\n",
            "[nltk_data]   Package stopwords is already up-to-date!\n",
            "[nltk_data] Downloading package wordnet to /root/nltk_data...\n"
          ]
        },
        {
          "output_type": "execute_result",
          "data": {
            "text/plain": [
              "True"
            ]
          },
          "metadata": {},
          "execution_count": 13
        }
      ],
      "source": [
        "# Download necessary NLTK resources\n",
        "nltk.download('stopwords')\n",
        "nltk.download('wordnet')"
      ]
    },
    {
      "cell_type": "code",
      "execution_count": null,
      "metadata": {
        "id": "NFqeLI2grhL9"
      },
      "outputs": [],
      "source": [
        "# Pre-defined replacements dictionaries\n",
        "# Define our emojis dictionary\n",
        "emojis_dict = {':)': 'smile', ':-)': 'smile', ';d': 'wink', ':-E': 'vampire', ':(': 'sad',\n",
        "          ':-(': 'sad', ':-<': 'sad', ':P': 'raspberry', ':O': 'surprised',\n",
        "          ':-@': 'shocked', ':@': 'shocked',':-$': 'confused', ':\\\\': 'annoyed',\n",
        "          ':#': 'mute', ':X': 'mute', ':^)': 'smile', ':-&': 'confused', '$_$': 'greedy',\n",
        "          '@@': 'eyeroll', ':-!': 'confused', ':-D': 'smile', ':-0': 'yell', 'O.o': 'confused',\n",
        "          '<(-_-)>': 'robot', 'd[-_-]b': 'dj', \":'-)\": 'sadsmile', ';)': 'wink',\n",
        "          ';-)': 'wink', 'O:-)': 'angel','O*-)': 'angel','(:-D': 'gossip', '=^.^=': 'cat'}\n",
        "# Define our chat words dictionary\n",
        "chat_words_dict = {\"BRB\": \"Be right back\",\n",
        "        \"BTW\": \"By the way\",\n",
        "        \"OMG\": \"Oh my God/goodness\",\n",
        "        \"TTYL\": \"Talk to you later\",\n",
        "        \"OMW\": \"On my way\",\n",
        "        \"SMH/SMDH\": \"Shaking my head/shaking my darn head\",\n",
        "        \"LOL\": \"Laugh out loud\",\n",
        "        \"TBD\": \"To be determined\",\n",
        "        \"IMHO/IMO\": \"In my humble opinion\",\n",
        "        \"HMU\": \"Hit me up\",\n",
        "        \"IIRC\": \"If I remember correctly\",\n",
        "        \"LMK\": \"Let me know\",\n",
        "        \"OG\": \"Original gangsters (used for old friends)\",\n",
        "        \"FTW\": \"For the win\",\n",
        "        \"NVM\": \"Nevermind\",\n",
        "        \"OOTD\": \"Outfit of the day\",\n",
        "        \"Ngl\": \"Not gonna lie\",\n",
        "        \"Rq\": \"real quick\",\n",
        "        \"Iykyk\": \"If you know, you know\",\n",
        "        \"Ong\": \"On god (I swear)\",\n",
        "        \"YAAAS\": \"Yes!\",\n",
        "        \"Brt\": \"Be right there\",\n",
        "        \"Sm\": \"So much\",\n",
        "        \"Ig\": \"I guess\",\n",
        "        \"Wya\": \"Where you at\",\n",
        "        \"Istg\": \"I swear to god\",\n",
        "        \"Hbu\": \"How about you\",\n",
        "        \"Atm\": \"At the moment\",\n",
        "        \"Asap\": \"As soon as possible\",\n",
        "        \"Fyi\": \"For your information\"}"
      ]
    },
    {
      "cell_type": "code",
      "execution_count": null,
      "metadata": {
        "id": "5R8gc_x5r0X9"
      },
      "outputs": [],
      "source": [
        "# Initialize stopwords and lemmatizer\n",
        "stop_words_set = set(stopwords.words('english'))\n",
        "lemmatizer = WordNetLemmatizer()"
      ]
    },
    {
      "cell_type": "code",
      "execution_count": null,
      "metadata": {
        "id": "4970qBmesWFX"
      },
      "outputs": [],
      "source": [
        "# Cleaning functions\n",
        "# Remove user mentions and hashtags using regular expression\n",
        "def remove_user_hashtag(text):\n",
        "    return re.sub(r'@[^ ]+|#[^ ]+', '', text)\n",
        "\n",
        "# Replace emojis in the text with their corresponding words based on the provided dictionary of emojis\n",
        "def replace_emojis(text, emojis):\n",
        "    for emoji, word in emojis.items():\n",
        "        text = text.replace(emoji, \" \" + word)\n",
        "    return text\n",
        "\n",
        "# Replace commonly used chat words based on the provided dictionary of chat_words and using regular expression\n",
        "def replace_chat_words(text, chat_words):\n",
        "    pattern = re.compile(r'\\b(' + '|'.join(re.escape(key) for key in chat_words.keys()) + r')\\b')\n",
        "    return pattern.sub(lambda x: chat_words[x.group()], text)\n",
        "\n",
        "# Remove punctuation marks using regular expression\n",
        "def remove_punctuation(text):\n",
        "    return re.sub(r'[^\\w\\s]', '', text)\n",
        "\n",
        "# Remove stopwords, improving text analysis by eliminating common words that carry little meaning\n",
        "def remove_stopwords(text):\n",
        "    return ' '.join(word for word in text.split() if word not in stop_words_set)\n",
        "\n",
        "# Remove URLs using regular expression\n",
        "def remove_urls(text):\n",
        "    return re.sub(r'https\\S+www\\S+https\\s+|http\\S+', '', text, flags=re.MULTILINE)\n",
        "\n",
        "# Apply lemmatization to normalize words for better text analysis and understanding\n",
        "def lemmatize_text(text):\n",
        "    return ' '.join(lemmatizer.lemmatize(word) for word in text.split())"
      ]
    },
    {
      "cell_type": "code",
      "execution_count": null,
      "metadata": {
        "id": "4BtCuA0esMns"
      },
      "outputs": [],
      "source": [
        "# Apply all cleaning operations\n",
        "data['text'] = data['text'].str.lower()\n",
        "data['text'] = data['text'].apply(remove_user_hashtag)\n",
        "data['text'] = data['text'].apply(replace_emojis, emojis=emojis_dict)\n",
        "data['text'] = data['text'].apply(replace_chat_words, chat_words=chat_words_dict)\n",
        "data['text'] = data['text'].apply(remove_punctuation)\n",
        "data['text'] = data['text'].apply(remove_stopwords)\n",
        "data['text'] = data['text'].apply(remove_urls)\n",
        "data['text'] = data['text'].apply(lemmatize_text)"
      ]
    },
    {
      "cell_type": "code",
      "execution_count": null,
      "metadata": {
        "id": "IrZcb0BCsaa9"
      },
      "outputs": [],
      "source": [
        "# Vectorize the cleaned text using TF-IDF with range of unigrams and bigrams\n",
        "tfidf_vectorizer = TfidfVectorizer(ngram_range=(1, 2), max_features=10000)\n",
        "# Fit and transform the text data from the 'text' column to create the TF-IDF matrix\n",
        "tfidf_matrix = tfidf_vectorizer.fit_transform(data['text'])"
      ]
    },
    {
      "cell_type": "code",
      "execution_count": null,
      "metadata": {
        "colab": {
          "base_uri": "https://localhost:8080/",
          "height": 206
        },
        "id": "sa_fbJnQtbLM",
        "outputId": "e72a029e-c921-42eb-9ceb-5077df93a90d"
      },
      "outputs": [
        {
          "output_type": "execute_result",
          "data": {
            "text/plain": [
              "   label    tweet_id                     timestamp     query          user_id  \\\n",
              "0      0  1467810369  Mon Apr 06 22:19:45 PDT 2009  NO_QUERY  _TheSpecialOne_   \n",
              "1      0  1467810672  Mon Apr 06 22:19:49 PDT 2009  NO_QUERY    scotthamilton   \n",
              "2      0  1467810917  Mon Apr 06 22:19:53 PDT 2009  NO_QUERY         mattycus   \n",
              "3      0  1467811184  Mon Apr 06 22:19:57 PDT 2009  NO_QUERY          ElleCTF   \n",
              "4      0  1467811193  Mon Apr 06 22:19:57 PDT 2009  NO_QUERY           Karoli   \n",
              "\n",
              "                                                text  \n",
              "0  awww thats bummer shoulda got david carr third...  \n",
              "1  upset cant update facebook texting might cry r...  \n",
              "2  dived many time ball managed save 50 rest go b...  \n",
              "3                    whole body feel itchy like fire  \n",
              "4                           behaving im mad cant see  "
            ],
            "text/html": [
              "\n",
              "  <div id=\"df-5d2be225-73a5-465e-afe6-1bd401986707\" class=\"colab-df-container\">\n",
              "    <div>\n",
              "<style scoped>\n",
              "    .dataframe tbody tr th:only-of-type {\n",
              "        vertical-align: middle;\n",
              "    }\n",
              "\n",
              "    .dataframe tbody tr th {\n",
              "        vertical-align: top;\n",
              "    }\n",
              "\n",
              "    .dataframe thead th {\n",
              "        text-align: right;\n",
              "    }\n",
              "</style>\n",
              "<table border=\"1\" class=\"dataframe\">\n",
              "  <thead>\n",
              "    <tr style=\"text-align: right;\">\n",
              "      <th></th>\n",
              "      <th>label</th>\n",
              "      <th>tweet_id</th>\n",
              "      <th>timestamp</th>\n",
              "      <th>query</th>\n",
              "      <th>user_id</th>\n",
              "      <th>text</th>\n",
              "    </tr>\n",
              "  </thead>\n",
              "  <tbody>\n",
              "    <tr>\n",
              "      <th>0</th>\n",
              "      <td>0</td>\n",
              "      <td>1467810369</td>\n",
              "      <td>Mon Apr 06 22:19:45 PDT 2009</td>\n",
              "      <td>NO_QUERY</td>\n",
              "      <td>_TheSpecialOne_</td>\n",
              "      <td>awww thats bummer shoulda got david carr third...</td>\n",
              "    </tr>\n",
              "    <tr>\n",
              "      <th>1</th>\n",
              "      <td>0</td>\n",
              "      <td>1467810672</td>\n",
              "      <td>Mon Apr 06 22:19:49 PDT 2009</td>\n",
              "      <td>NO_QUERY</td>\n",
              "      <td>scotthamilton</td>\n",
              "      <td>upset cant update facebook texting might cry r...</td>\n",
              "    </tr>\n",
              "    <tr>\n",
              "      <th>2</th>\n",
              "      <td>0</td>\n",
              "      <td>1467810917</td>\n",
              "      <td>Mon Apr 06 22:19:53 PDT 2009</td>\n",
              "      <td>NO_QUERY</td>\n",
              "      <td>mattycus</td>\n",
              "      <td>dived many time ball managed save 50 rest go b...</td>\n",
              "    </tr>\n",
              "    <tr>\n",
              "      <th>3</th>\n",
              "      <td>0</td>\n",
              "      <td>1467811184</td>\n",
              "      <td>Mon Apr 06 22:19:57 PDT 2009</td>\n",
              "      <td>NO_QUERY</td>\n",
              "      <td>ElleCTF</td>\n",
              "      <td>whole body feel itchy like fire</td>\n",
              "    </tr>\n",
              "    <tr>\n",
              "      <th>4</th>\n",
              "      <td>0</td>\n",
              "      <td>1467811193</td>\n",
              "      <td>Mon Apr 06 22:19:57 PDT 2009</td>\n",
              "      <td>NO_QUERY</td>\n",
              "      <td>Karoli</td>\n",
              "      <td>behaving im mad cant see</td>\n",
              "    </tr>\n",
              "  </tbody>\n",
              "</table>\n",
              "</div>\n",
              "    <div class=\"colab-df-buttons\">\n",
              "\n",
              "  <div class=\"colab-df-container\">\n",
              "    <button class=\"colab-df-convert\" onclick=\"convertToInteractive('df-5d2be225-73a5-465e-afe6-1bd401986707')\"\n",
              "            title=\"Convert this dataframe to an interactive table.\"\n",
              "            style=\"display:none;\">\n",
              "\n",
              "  <svg xmlns=\"http://www.w3.org/2000/svg\" height=\"24px\" viewBox=\"0 -960 960 960\">\n",
              "    <path d=\"M120-120v-720h720v720H120Zm60-500h600v-160H180v160Zm220 220h160v-160H400v160Zm0 220h160v-160H400v160ZM180-400h160v-160H180v160Zm440 0h160v-160H620v160ZM180-180h160v-160H180v160Zm440 0h160v-160H620v160Z\"/>\n",
              "  </svg>\n",
              "    </button>\n",
              "\n",
              "  <style>\n",
              "    .colab-df-container {\n",
              "      display:flex;\n",
              "      gap: 12px;\n",
              "    }\n",
              "\n",
              "    .colab-df-convert {\n",
              "      background-color: #E8F0FE;\n",
              "      border: none;\n",
              "      border-radius: 50%;\n",
              "      cursor: pointer;\n",
              "      display: none;\n",
              "      fill: #1967D2;\n",
              "      height: 32px;\n",
              "      padding: 0 0 0 0;\n",
              "      width: 32px;\n",
              "    }\n",
              "\n",
              "    .colab-df-convert:hover {\n",
              "      background-color: #E2EBFA;\n",
              "      box-shadow: 0px 1px 2px rgba(60, 64, 67, 0.3), 0px 1px 3px 1px rgba(60, 64, 67, 0.15);\n",
              "      fill: #174EA6;\n",
              "    }\n",
              "\n",
              "    .colab-df-buttons div {\n",
              "      margin-bottom: 4px;\n",
              "    }\n",
              "\n",
              "    [theme=dark] .colab-df-convert {\n",
              "      background-color: #3B4455;\n",
              "      fill: #D2E3FC;\n",
              "    }\n",
              "\n",
              "    [theme=dark] .colab-df-convert:hover {\n",
              "      background-color: #434B5C;\n",
              "      box-shadow: 0px 1px 3px 1px rgba(0, 0, 0, 0.15);\n",
              "      filter: drop-shadow(0px 1px 2px rgba(0, 0, 0, 0.3));\n",
              "      fill: #FFFFFF;\n",
              "    }\n",
              "  </style>\n",
              "\n",
              "    <script>\n",
              "      const buttonEl =\n",
              "        document.querySelector('#df-5d2be225-73a5-465e-afe6-1bd401986707 button.colab-df-convert');\n",
              "      buttonEl.style.display =\n",
              "        google.colab.kernel.accessAllowed ? 'block' : 'none';\n",
              "\n",
              "      async function convertToInteractive(key) {\n",
              "        const element = document.querySelector('#df-5d2be225-73a5-465e-afe6-1bd401986707');\n",
              "        const dataTable =\n",
              "          await google.colab.kernel.invokeFunction('convertToInteractive',\n",
              "                                                    [key], {});\n",
              "        if (!dataTable) return;\n",
              "\n",
              "        const docLinkHtml = 'Like what you see? Visit the ' +\n",
              "          '<a target=\"_blank\" href=https://colab.research.google.com/notebooks/data_table.ipynb>data table notebook</a>'\n",
              "          + ' to learn more about interactive tables.';\n",
              "        element.innerHTML = '';\n",
              "        dataTable['output_type'] = 'display_data';\n",
              "        await google.colab.output.renderOutput(dataTable, element);\n",
              "        const docLink = document.createElement('div');\n",
              "        docLink.innerHTML = docLinkHtml;\n",
              "        element.appendChild(docLink);\n",
              "      }\n",
              "    </script>\n",
              "  </div>\n",
              "\n",
              "\n",
              "<div id=\"df-bc07c5e9-44c3-412e-bc95-01c5e7644274\">\n",
              "  <button class=\"colab-df-quickchart\" onclick=\"quickchart('df-bc07c5e9-44c3-412e-bc95-01c5e7644274')\"\n",
              "            title=\"Suggest charts\"\n",
              "            style=\"display:none;\">\n",
              "\n",
              "<svg xmlns=\"http://www.w3.org/2000/svg\" height=\"24px\"viewBox=\"0 0 24 24\"\n",
              "     width=\"24px\">\n",
              "    <g>\n",
              "        <path d=\"M19 3H5c-1.1 0-2 .9-2 2v14c0 1.1.9 2 2 2h14c1.1 0 2-.9 2-2V5c0-1.1-.9-2-2-2zM9 17H7v-7h2v7zm4 0h-2V7h2v10zm4 0h-2v-4h2v4z\"/>\n",
              "    </g>\n",
              "</svg>\n",
              "  </button>\n",
              "\n",
              "<style>\n",
              "  .colab-df-quickchart {\n",
              "      --bg-color: #E8F0FE;\n",
              "      --fill-color: #1967D2;\n",
              "      --hover-bg-color: #E2EBFA;\n",
              "      --hover-fill-color: #174EA6;\n",
              "      --disabled-fill-color: #AAA;\n",
              "      --disabled-bg-color: #DDD;\n",
              "  }\n",
              "\n",
              "  [theme=dark] .colab-df-quickchart {\n",
              "      --bg-color: #3B4455;\n",
              "      --fill-color: #D2E3FC;\n",
              "      --hover-bg-color: #434B5C;\n",
              "      --hover-fill-color: #FFFFFF;\n",
              "      --disabled-bg-color: #3B4455;\n",
              "      --disabled-fill-color: #666;\n",
              "  }\n",
              "\n",
              "  .colab-df-quickchart {\n",
              "    background-color: var(--bg-color);\n",
              "    border: none;\n",
              "    border-radius: 50%;\n",
              "    cursor: pointer;\n",
              "    display: none;\n",
              "    fill: var(--fill-color);\n",
              "    height: 32px;\n",
              "    padding: 0;\n",
              "    width: 32px;\n",
              "  }\n",
              "\n",
              "  .colab-df-quickchart:hover {\n",
              "    background-color: var(--hover-bg-color);\n",
              "    box-shadow: 0 1px 2px rgba(60, 64, 67, 0.3), 0 1px 3px 1px rgba(60, 64, 67, 0.15);\n",
              "    fill: var(--button-hover-fill-color);\n",
              "  }\n",
              "\n",
              "  .colab-df-quickchart-complete:disabled,\n",
              "  .colab-df-quickchart-complete:disabled:hover {\n",
              "    background-color: var(--disabled-bg-color);\n",
              "    fill: var(--disabled-fill-color);\n",
              "    box-shadow: none;\n",
              "  }\n",
              "\n",
              "  .colab-df-spinner {\n",
              "    border: 2px solid var(--fill-color);\n",
              "    border-color: transparent;\n",
              "    border-bottom-color: var(--fill-color);\n",
              "    animation:\n",
              "      spin 1s steps(1) infinite;\n",
              "  }\n",
              "\n",
              "  @keyframes spin {\n",
              "    0% {\n",
              "      border-color: transparent;\n",
              "      border-bottom-color: var(--fill-color);\n",
              "      border-left-color: var(--fill-color);\n",
              "    }\n",
              "    20% {\n",
              "      border-color: transparent;\n",
              "      border-left-color: var(--fill-color);\n",
              "      border-top-color: var(--fill-color);\n",
              "    }\n",
              "    30% {\n",
              "      border-color: transparent;\n",
              "      border-left-color: var(--fill-color);\n",
              "      border-top-color: var(--fill-color);\n",
              "      border-right-color: var(--fill-color);\n",
              "    }\n",
              "    40% {\n",
              "      border-color: transparent;\n",
              "      border-right-color: var(--fill-color);\n",
              "      border-top-color: var(--fill-color);\n",
              "    }\n",
              "    60% {\n",
              "      border-color: transparent;\n",
              "      border-right-color: var(--fill-color);\n",
              "    }\n",
              "    80% {\n",
              "      border-color: transparent;\n",
              "      border-right-color: var(--fill-color);\n",
              "      border-bottom-color: var(--fill-color);\n",
              "    }\n",
              "    90% {\n",
              "      border-color: transparent;\n",
              "      border-bottom-color: var(--fill-color);\n",
              "    }\n",
              "  }\n",
              "</style>\n",
              "\n",
              "  <script>\n",
              "    async function quickchart(key) {\n",
              "      const quickchartButtonEl =\n",
              "        document.querySelector('#' + key + ' button');\n",
              "      quickchartButtonEl.disabled = true;  // To prevent multiple clicks.\n",
              "      quickchartButtonEl.classList.add('colab-df-spinner');\n",
              "      try {\n",
              "        const charts = await google.colab.kernel.invokeFunction(\n",
              "            'suggestCharts', [key], {});\n",
              "      } catch (error) {\n",
              "        console.error('Error during call to suggestCharts:', error);\n",
              "      }\n",
              "      quickchartButtonEl.classList.remove('colab-df-spinner');\n",
              "      quickchartButtonEl.classList.add('colab-df-quickchart-complete');\n",
              "    }\n",
              "    (() => {\n",
              "      let quickchartButtonEl =\n",
              "        document.querySelector('#df-bc07c5e9-44c3-412e-bc95-01c5e7644274 button');\n",
              "      quickchartButtonEl.style.display =\n",
              "        google.colab.kernel.accessAllowed ? 'block' : 'none';\n",
              "    })();\n",
              "  </script>\n",
              "</div>\n",
              "\n",
              "    </div>\n",
              "  </div>\n"
            ],
            "application/vnd.google.colaboratory.intrinsic+json": {
              "type": "dataframe",
              "variable_name": "data"
            }
          },
          "metadata": {},
          "execution_count": 19
        }
      ],
      "source": [
        "# Display the first 5 rows of the 'data' DataFrame\n",
        "data.head(5)"
      ]
    },
    {
      "cell_type": "code",
      "execution_count": null,
      "metadata": {
        "id": "K0GI4yWrGvFf"
      },
      "outputs": [],
      "source": [
        "# Import the train_test_split function from sklearn.model_selection module\n",
        "from sklearn.model_selection import train_test_split\n",
        "\n",
        "# Split the data into training and testing sets\n",
        "X_train, X_test, y_train, y_test = train_test_split(data['text'], data['label'], test_size=0.2, random_state=42)\n",
        "\n",
        "# Transform the training and testing data using TF-IDF vectorizer\n",
        "X_train_tfidf = tfidf_vectorizer.fit_transform(X_train)\n",
        "X_test_tfidf = tfidf_vectorizer.transform(X_test)\n",
        "\n",
        "# Now X_train_tfidf and y_train are ready for training a model\n",
        "# X_test_tfidf and y_test are ready for evaluating the model"
      ]
    },
    {
      "cell_type": "code",
      "source": [
        "# Print the training set (X_train)\n",
        "print(X_train)"
      ],
      "metadata": {
        "colab": {
          "base_uri": "https://localhost:8080/"
        },
        "id": "wni5m8OeGsbp",
        "outputId": "3b156243-cc62-4f53-b78e-e255044ffa49"
      },
      "execution_count": null,
      "outputs": [
        {
          "output_type": "stream",
          "name": "stdout",
          "text": [
            "1374558    ya quotid like palm pre touchstone charger rea...\n",
            "1389115            felt earthquake afternoon seems epicenter\n",
            "1137831                              ruffle shirt like likey\n",
            "790714     pretty bad night crappy morningfml buttface di...\n",
            "1117911                                      yeah clear view\n",
            "                                 ...                        \n",
            "259178           song middle change doesnt want born arghhhh\n",
            "1414414                                            good luck\n",
            "131932                                  rather average 32370\n",
            "671155     pickin waitin 2 hurry upi odeeee missed dem ta...\n",
            "121958           home studying math wooot im going fail shit\n",
            "Name: text, Length: 1280000, dtype: object\n"
          ]
        }
      ]
    },
    {
      "cell_type": "code",
      "execution_count": null,
      "metadata": {
        "colab": {
          "base_uri": "https://localhost:8080/"
        },
        "id": "pniHPrE7HMdZ",
        "outputId": "af48a75f-199e-410a-9fd4-c48e5c0ca184"
      },
      "outputs": [
        {
          "output_type": "stream",
          "name": "stdout",
          "text": [
            "  (0, 7889)\t0.32759188479929857\n",
            "  (0, 6419)\t0.3881024484093551\n",
            "  (0, 6975)\t0.23219669623753672\n",
            "  (0, 817)\t0.2983772470114568\n",
            "  (0, 3404)\t0.1580710558788188\n",
            "  (0, 7886)\t0.23792021565974972\n",
            "  (0, 9897)\t0.22032446174285752\n",
            "  (0, 1368)\t0.35888014944935853\n",
            "  (0, 6754)\t0.354414612666464\n",
            "  (0, 6418)\t0.35630263164197423\n",
            "  (0, 5041)\t0.1629924406244058\n",
            "  (0, 9837)\t0.2470984070163691\n",
            "  (1, 7488)\t0.43581051660455133\n",
            "  (1, 264)\t0.4503070821100366\n",
            "  (1, 2373)\t0.6076059840506352\n",
            "  (1, 2755)\t0.4879627993651548\n",
            "  (2, 5116)\t0.7614867304087967\n",
            "  (2, 7575)\t0.5723020639477514\n",
            "  (2, 5041)\t0.3043161300563355\n",
            "  (3, 9720)\t0.2757552057768895\n",
            "  (3, 3308)\t0.27027100109251867\n",
            "  (3, 1677)\t0.2884690496313551\n",
            "  (3, 2076)\t0.35138251333320425\n",
            "  (3, 706)\t0.3735859965788796\n",
            "  (3, 6776)\t0.35844186297480496\n",
            "  :\t:\n",
            "  (1279995, 7819)\t0.31507560516421473\n",
            "  (1279995, 2165)\t0.312677561648564\n",
            "  (1279995, 9308)\t0.2438710963866264\n",
            "  (1279996, 3436)\t0.6774704164303754\n",
            "  (1279996, 5376)\t0.6225077144011072\n",
            "  (1279996, 3404)\t0.39181370620840117\n",
            "  (1279997, 594)\t0.7968859062588387\n",
            "  (1279997, 6958)\t0.6041298307533153\n",
            "  (1279998, 2005)\t0.44025340091990817\n",
            "  (1279998, 9272)\t0.4039860933852968\n",
            "  (1279998, 8308)\t0.3712134810194207\n",
            "  (1279998, 4181)\t0.3781517471221023\n",
            "  (1279998, 2679)\t0.3478598285812962\n",
            "  (1279998, 5681)\t0.2640749891515403\n",
            "  (1279998, 8343)\t0.2753571606174638\n",
            "  (1279998, 1034)\t0.3092092509100915\n",
            "  (1279999, 3337)\t0.5133001342107283\n",
            "  (1279999, 8151)\t0.36559619532703547\n",
            "  (1279999, 2633)\t0.36673615117775904\n",
            "  (1279999, 5523)\t0.36835167619892734\n",
            "  (1279999, 4000)\t0.24047263995347062\n",
            "  (1279999, 4332)\t0.3066198989502135\n",
            "  (1279999, 3322)\t0.2157300903510835\n",
            "  (1279999, 7576)\t0.3264416842480958\n",
            "  (1279999, 4271)\t0.16654589201285674\n"
          ]
        }
      ],
      "source": [
        "# Print the TF-IDF transformed training set (X_train)\n",
        "print(X_train_tfidf)"
      ]
    },
    {
      "cell_type": "code",
      "execution_count": null,
      "metadata": {
        "colab": {
          "base_uri": "https://localhost:8080/"
        },
        "id": "SiEg1GJjH9fR",
        "outputId": "e16810bf-d5ed-40f0-aa12-7dc0ed0b8004"
      },
      "outputs": [
        {
          "output_type": "stream",
          "name": "stdout",
          "text": [
            "  (0, 6244)\t0.39157176388928117\n",
            "  (0, 4076)\t0.6834473842592044\n",
            "  (0, 4051)\t0.3356907022110344\n",
            "  (0, 285)\t0.516607180673044\n",
            "  (1, 8997)\t0.4755417639171685\n",
            "  (1, 1646)\t0.4904283171726418\n",
            "  (1, 498)\t0.730301373739471\n",
            "  (2, 9526)\t0.2708286181491824\n",
            "  (2, 8671)\t0.14844818319071082\n",
            "  (2, 7721)\t0.3247175171659523\n",
            "  (2, 6025)\t0.26305831815570174\n",
            "  (2, 6015)\t0.19090953103704622\n",
            "  (2, 5041)\t0.14102664524412695\n",
            "  (2, 4786)\t0.15460152338848943\n",
            "  (2, 4757)\t0.32031702735679873\n",
            "  (2, 4236)\t0.3444685605898666\n",
            "  (2, 4231)\t0.17253097028228664\n",
            "  (2, 3752)\t0.25045405921610386\n",
            "  (2, 3683)\t0.34842518073749756\n",
            "  (2, 3679)\t0.18951942473126865\n",
            "  (2, 2655)\t0.2206786185152004\n",
            "  (2, 2285)\t0.2897145212969884\n",
            "  (2, 1192)\t0.2145465517628846\n",
            "  (3, 9654)\t0.2569382393347954\n",
            "  (3, 8159)\t0.29430901053404335\n",
            "  :\t:\n",
            "  (319995, 1289)\t0.7047842902355761\n",
            "  (319996, 9447)\t0.27743538836210824\n",
            "  (319996, 7586)\t0.3972063664346306\n",
            "  (319996, 6564)\t0.5101439466307142\n",
            "  (319996, 6563)\t0.3439417673595507\n",
            "  (319996, 1164)\t0.5224982472675379\n",
            "  (319996, 1160)\t0.3372083980747554\n",
            "  (319997, 8474)\t0.6021116208348878\n",
            "  (319997, 8455)\t0.29310599110617636\n",
            "  (319997, 6923)\t0.6103744415036331\n",
            "  (319997, 5128)\t0.42307625221983136\n",
            "  (319998, 9447)\t0.23205830735307204\n",
            "  (319998, 7604)\t0.23401427027042687\n",
            "  (319998, 7010)\t0.3438968669712289\n",
            "  (319998, 6998)\t0.19279495800183064\n",
            "  (319998, 3642)\t0.4122349555631247\n",
            "  (319998, 2526)\t0.24999562294304273\n",
            "  (319998, 2202)\t0.3734591030621285\n",
            "  (319998, 2198)\t0.1789498036498317\n",
            "  (319998, 1287)\t0.2907358571806812\n",
            "  (319998, 854)\t0.4363358379951141\n",
            "  (319998, 846)\t0.23896611939790557\n",
            "  (319999, 5128)\t0.580731339173547\n",
            "  (319999, 3215)\t0.5259296321323776\n",
            "  (319999, 1101)\t0.6214089907193173\n"
          ]
        }
      ],
      "source": [
        "# Print the TF-IDF transformed testing set (X_test)\n",
        "print(X_test_tfidf)"
      ]
    },
    {
      "cell_type": "markdown",
      "metadata": {
        "id": "fUG9pxICICSJ"
      },
      "source": [
        "#4. Model Building"
      ]
    },
    {
      "cell_type": "markdown",
      "metadata": {
        "id": "RQwqH4H3IhQB"
      },
      "source": [
        "In this section, we will build and compare seven models to determine the most effective predictor of tweet sentiments.\n",
        "\n",
        "The first six models will be supervised, meaning they will be trained using labeled data, where each tweet is associated with a sentiment label.\n",
        "\n",
        "The seventh model will be unsupervised, meaning it does not rely on labeled data. Instead, it analyzes the structure and patterns within the data to identify sentiment clusters or themes without explicit supervision.\n",
        "\n",
        "Supervised models:\n",
        "- Logistic Regression: Versatile model for binary classification, it's a good starting point for text sentiment analysis.\n",
        "- Naive Bayes: Probabilistic model, often performs well in text classification due to its assumption of independence among features.\n",
        "- Linear Support Vector Machine (SVC): Classification algorithm efficient for linearly separable data in high-dimensional spaces.\n",
        "- Random Forest: An ensemble method that can capture non-linear patterns by combining decision trees.\n",
        "- Stochastic Gradient Descent Classifier (SGDC) with Logistic Regression: SGDC is an efficient optimization algorithm used to train logistic regression models.\n",
        "- Artificial Neural Network (ANN): A versatile model inspired by the human brain's structure and capable of capturing intricate patterns in text.\n",
        "\n",
        "Unsupervised model:\n",
        "- VADER: Stands for \"Valence Aware Dictionary and sEntiment Reasoner\". Lexicon and rule-based sentiment analysis tool, suitable for sentiment analysis on social media text.\n",
        "\n",
        "For each model, we'll:\n",
        "\n",
        "- Instantiate the model.\n",
        "- Train it on the training set.\n",
        "- Predict sentiments on the test set.\n",
        "\n",
        "We'll use the preprocessed and vectorized data X_train_tfidf, X_test_tfidf, y_train, and y_test from the previous section."
      ]
    },
    {
      "cell_type": "code",
      "execution_count": null,
      "metadata": {
        "id": "GLHsP0ITIfaZ"
      },
      "outputs": [],
      "source": [
        "# Import the selected machine learning models for the project, and evaluation metrics like accuracy score and classification report.\n",
        "from sklearn.linear_model import LogisticRegression\n",
        "from sklearn.naive_bayes import MultinomialNB\n",
        "from sklearn.svm import LinearSVC\n",
        "from sklearn.ensemble import RandomForestClassifier\n",
        "from sklearn.ensemble import GradientBoostingClassifier\n",
        "from sklearn.metrics import accuracy_score, classification_report, precision_score, recall_score, f1_score"
      ]
    },
    {
      "cell_type": "markdown",
      "metadata": {
        "id": "cZeb5DBNNMKM"
      },
      "source": [
        "##4.1. Logistic Regression"
      ]
    },
    {
      "cell_type": "code",
      "source": [
        "# Logistic Regression\n",
        "# Instantiate the Logistic Regression model\n",
        "logreg = LogisticRegression(random_state=42)\n",
        "\n",
        "# Train the model\n",
        "logreg.fit(X_train_tfidf, y_train)\n",
        "\n",
        "# Predict on the test set\n",
        "logreg_pred = logreg.predict(X_test_tfidf)\n",
        "\n",
        "# Calculate performance metrics\n",
        "print(\"Logistic Regression Model Performance metrics:\")\n",
        "print(\"-\" * 30)\n",
        "print(f\"Accuracy: {accuracy_score(y_test, logreg_pred):.4f}\")\n",
        "print(f\"Precision: {precision_score(y_test, logreg_pred, average='weighted'):.4f}\")\n",
        "print(f\"Recall: {recall_score(y_test, logreg_pred, average='weighted'):.4f}\")\n",
        "print(f\"F1 Score: {f1_score(y_test, logreg_pred, average='weighted'):.4f}\")\n",
        "print()\n",
        "\n",
        "# Detailed classification report\n",
        "print(\"Model Classification report:\")\n",
        "print(\"-\" * 30)\n",
        "print(classification_report(y_test, logreg_pred))"
      ],
      "metadata": {
        "colab": {
          "base_uri": "https://localhost:8080/"
        },
        "id": "JNbf4m-RRIZL",
        "outputId": "2eda8a72-f92f-4fcd-ec80-25db9b6a9bd1"
      },
      "execution_count": null,
      "outputs": [
        {
          "output_type": "stream",
          "name": "stderr",
          "text": [
            "/usr/local/lib/python3.10/dist-packages/sklearn/linear_model/_logistic.py:458: ConvergenceWarning: lbfgs failed to converge (status=1):\n",
            "STOP: TOTAL NO. of ITERATIONS REACHED LIMIT.\n",
            "\n",
            "Increase the number of iterations (max_iter) or scale the data as shown in:\n",
            "    https://scikit-learn.org/stable/modules/preprocessing.html\n",
            "Please also refer to the documentation for alternative solver options:\n",
            "    https://scikit-learn.org/stable/modules/linear_model.html#logistic-regression\n",
            "  n_iter_i = _check_optimize_result(\n"
          ]
        },
        {
          "output_type": "stream",
          "name": "stdout",
          "text": [
            "Logistic Regression Model Performance metrics:\n",
            "------------------------------\n",
            "Accuracy: 0.7844\n",
            "Precision: 0.7849\n",
            "Recall: 0.7844\n",
            "F1 Score: 0.7843\n",
            "\n",
            "Model Classification report:\n",
            "------------------------------\n",
            "              precision    recall  f1-score   support\n",
            "\n",
            "           0       0.80      0.76      0.78    159494\n",
            "           1       0.77      0.81      0.79    160506\n",
            "\n",
            "    accuracy                           0.78    320000\n",
            "   macro avg       0.78      0.78      0.78    320000\n",
            "weighted avg       0.78      0.78      0.78    320000\n",
            "\n"
          ]
        }
      ]
    },
    {
      "cell_type": "markdown",
      "metadata": {
        "id": "F4RdXN32NYm5"
      },
      "source": [
        "##4.2. Naive Bayes"
      ]
    },
    {
      "cell_type": "code",
      "source": [
        "# Naive Bayes\n",
        "# Instantiate a Multinomial Naive Bayes model\n",
        "nb = MultinomialNB()\n",
        "\n",
        "# Train the model\n",
        "nb.fit(X_train_tfidf, y_train)\n",
        "\n",
        "# Predict on the test set\n",
        "nb_pred = nb.predict(X_test_tfidf)\n",
        "\n",
        "# Calculate performance metrics\n",
        "print(\"Naive Bayes Model Performance metrics:\")\n",
        "print(\"-\" * 30)\n",
        "print(f\"Accuracy: {accuracy_score(y_test, nb_pred):.4f}\")\n",
        "print(f\"Precision: {precision_score(y_test, nb_pred, average='weighted'):.4f}\")\n",
        "print(f\"Recall: {recall_score(y_test, nb_pred, average='weighted'):.4f}\")\n",
        "print(f\"F1 Score: {f1_score(y_test, nb_pred, average='weighted'):.4f}\")\n",
        "print()\n",
        "\n",
        "# Detailed classification report\n",
        "print(\"Model Classification report:\")\n",
        "print(\"-\" * 30)\n",
        "print(classification_report(y_test, nb_pred))"
      ],
      "metadata": {
        "colab": {
          "base_uri": "https://localhost:8080/"
        },
        "id": "9O6_-GUdkiUu",
        "outputId": "f312f4cd-bedc-4e55-e1cc-1378890c9fb0"
      },
      "execution_count": null,
      "outputs": [
        {
          "output_type": "stream",
          "name": "stdout",
          "text": [
            "Naive Bayes Model Performance metrics:\n",
            "------------------------------\n",
            "Accuracy: 0.7670\n",
            "Precision: 0.7670\n",
            "Recall: 0.7670\n",
            "F1 Score: 0.7670\n",
            "\n",
            "Model Classification report:\n",
            "------------------------------\n",
            "              precision    recall  f1-score   support\n",
            "\n",
            "           0       0.76      0.77      0.77    159494\n",
            "           1       0.77      0.76      0.77    160506\n",
            "\n",
            "    accuracy                           0.77    320000\n",
            "   macro avg       0.77      0.77      0.77    320000\n",
            "weighted avg       0.77      0.77      0.77    320000\n",
            "\n"
          ]
        }
      ]
    },
    {
      "cell_type": "markdown",
      "metadata": {
        "id": "YHolrJRsNcBu"
      },
      "source": [
        "##4.3. Linear Support Vector Machine"
      ]
    },
    {
      "cell_type": "code",
      "source": [
        "# Linear Support Vector Machine\n",
        "# Instantiate a Linear Support Vector Machine model\n",
        "svm_model = LinearSVC(random_state=42)\n",
        "\n",
        "# Train the model\n",
        "svm_model.fit(X_train_tfidf, y_train)\n",
        "\n",
        "# Predict on the test set\n",
        "svm_pred = svm_model.predict(X_test_tfidf)\n",
        "\n",
        "# Calculate performance metrics\n",
        "print(\"LinearSVC Model Performance metrics:\")\n",
        "print(\"-\" * 30)\n",
        "print(f\"Accuracy: {accuracy_score(y_test, svm_pred):.4f}\")\n",
        "print(f\"Precision: {precision_score(y_test, svm_pred, average='weighted'):.4f}\")\n",
        "print(f\"Recall: {recall_score(y_test, svm_pred, average='weighted'):.4f}\")\n",
        "print(f\"F1 Score: {f1_score(y_test, svm_pred, average='weighted'):.4f}\")\n",
        "print()\n",
        "\n",
        "# Detailed classification report\n",
        "print(\"Model Classification report:\")\n",
        "print(\"-\" * 30)\n",
        "print(classification_report(y_test, svm_pred))"
      ],
      "metadata": {
        "colab": {
          "base_uri": "https://localhost:8080/"
        },
        "id": "Nd6jxob-qv7O",
        "outputId": "831b2f95-f896-4578-9df3-093ce05fdccc"
      },
      "execution_count": null,
      "outputs": [
        {
          "output_type": "stream",
          "name": "stdout",
          "text": [
            "LinearSVC Model Performance metrics:\n",
            "------------------------------\n",
            "Accuracy: 0.7836\n",
            "Precision: 0.7844\n",
            "Recall: 0.7836\n",
            "F1 Score: 0.7834\n",
            "\n",
            "Model Classification report:\n",
            "------------------------------\n",
            "              precision    recall  f1-score   support\n",
            "\n",
            "           0       0.80      0.76      0.78    159494\n",
            "           1       0.77      0.81      0.79    160506\n",
            "\n",
            "    accuracy                           0.78    320000\n",
            "   macro avg       0.78      0.78      0.78    320000\n",
            "weighted avg       0.78      0.78      0.78    320000\n",
            "\n"
          ]
        }
      ]
    },
    {
      "cell_type": "markdown",
      "metadata": {
        "id": "HmW8NQl0NgOU"
      },
      "source": [
        "##4.4. Random Forest"
      ]
    },
    {
      "cell_type": "code",
      "source": [
        "# Random Forest\n",
        "# Instantiate a Random Forest model\n",
        "rf_model = RandomForestClassifier(max_depth=10, n_jobs=-1, random_state=42)\n",
        "\n",
        "# Train the model\n",
        "rf_model.fit(X_train_tfidf, y_train)\n",
        "\n",
        "# Predict on the test set\n",
        "rf_pred = rf_model.predict(X_test_tfidf)\n",
        "\n",
        "# Calculate performance metrics\n",
        "print(\"RandomForest Model Performance metrics:\")\n",
        "print(\"-\" * 30)\n",
        "print(f\"Accuracy: {accuracy_score(y_test, rf_pred):.4f}\")\n",
        "print(f\"Precision: {precision_score(y_test, rf_pred, average='weighted'):.4f}\")\n",
        "print(f\"Recall: {recall_score(y_test, rf_pred, average='weighted'):.4f}\")\n",
        "print(f\"F1 Score: {f1_score(y_test, rf_pred, average='weighted'):.4f}\")\n",
        "print()\n",
        "\n",
        "# Detailed classification report\n",
        "print(\"Model Classification report:\")\n",
        "print(\"-\" * 30)\n",
        "print(classification_report(y_test, rf_pred))"
      ],
      "metadata": {
        "colab": {
          "base_uri": "https://localhost:8080/"
        },
        "id": "NDuJBM59tTKm",
        "outputId": "41c0d629-848d-4dc9-ccac-67493e5a3c3c"
      },
      "execution_count": null,
      "outputs": [
        {
          "output_type": "stream",
          "name": "stdout",
          "text": [
            "RandomForest Model Performance metrics:\n",
            "------------------------------\n",
            "Accuracy: 0.7071\n",
            "Precision: 0.7178\n",
            "Recall: 0.7071\n",
            "F1 Score: 0.7033\n",
            "\n",
            "Model Classification report:\n",
            "------------------------------\n",
            "              precision    recall  f1-score   support\n",
            "\n",
            "           0       0.77      0.59      0.67    159494\n",
            "           1       0.67      0.82      0.74    160506\n",
            "\n",
            "    accuracy                           0.71    320000\n",
            "   macro avg       0.72      0.71      0.70    320000\n",
            "weighted avg       0.72      0.71      0.70    320000\n",
            "\n"
          ]
        }
      ]
    },
    {
      "cell_type": "markdown",
      "source": [
        "##4.5 SGD Classifier with logistic regression setting"
      ],
      "metadata": {
        "id": "pajlmNOCrdEn"
      }
    },
    {
      "cell_type": "code",
      "source": [
        "from sklearn.linear_model import SGDClassifier\n",
        "from sklearn.metrics import accuracy_score, classification_report\n",
        "\n",
        "# Configure the SGDClassifier for Logistic Regression\n",
        "clf = SGDClassifier(loss='log', max_iter=1000, tol=1e-3, random_state=42)\n",
        "\n",
        "# Train the model\n",
        "clf.fit(X_train_tfidf, y_train)\n",
        "\n",
        "# Predict on the test set\n",
        "sgdc_pred = clf.predict(X_test_tfidf)\n",
        "\n",
        "# Calculate performance metrics\n",
        "print(\"SGDClassifier Model Performance metrics:\")\n",
        "print(\"-\" * 30)\n",
        "print(f\"Accuracy: {accuracy_score(y_test, sgdc_pred):.4f}\")\n",
        "print(f\"Precision: {precision_score(y_test, sgdc_pred, average='weighted'):.4f}\")\n",
        "print(f\"Recall: {recall_score(y_test, sgdc_pred, average='weighted'):.4f}\")\n",
        "print(f\"F1 Score: {f1_score(y_test, sgdc_pred, average='weighted'):.4f}\")\n",
        "print()\n",
        "\n",
        "# Detailed classification report\n",
        "print(\"Model Classification report:\")\n",
        "print(\"-\" * 30)\n",
        "print(classification_report(y_test, sgdc_pred))"
      ],
      "metadata": {
        "colab": {
          "base_uri": "https://localhost:8080/"
        },
        "id": "5CpoMm1ArKPp",
        "outputId": "d1ff6852-c5d8-4ddb-c8e4-394874838ec6"
      },
      "execution_count": null,
      "outputs": [
        {
          "output_type": "stream",
          "name": "stderr",
          "text": [
            "/usr/local/lib/python3.10/dist-packages/sklearn/linear_model/_stochastic_gradient.py:163: FutureWarning: The loss 'log' was deprecated in v1.1 and will be removed in version 1.3. Use `loss='log_loss'` which is equivalent.\n",
            "  warnings.warn(\n"
          ]
        },
        {
          "output_type": "stream",
          "name": "stdout",
          "text": [
            "SGDClassifier Model Performance metrics:\n",
            "------------------------------\n",
            "Accuracy: 0.7643\n",
            "Precision: 0.7649\n",
            "Recall: 0.7643\n",
            "F1 Score: 0.7642\n",
            "\n",
            "Model Classification report:\n",
            "------------------------------\n",
            "              precision    recall  f1-score   support\n",
            "\n",
            "           0       0.78      0.74      0.76    159494\n",
            "           1       0.75      0.79      0.77    160506\n",
            "\n",
            "    accuracy                           0.76    320000\n",
            "   macro avg       0.76      0.76      0.76    320000\n",
            "weighted avg       0.76      0.76      0.76    320000\n",
            "\n"
          ]
        }
      ]
    },
    {
      "cell_type": "markdown",
      "source": [
        "##4.6. ANN"
      ],
      "metadata": {
        "id": "bOccLJvoeYQa"
      }
    },
    {
      "cell_type": "code",
      "source": [
        "# Import necessary libraries\n",
        "import pandas as pd\n",
        "import numpy as np\n",
        "from sklearn.neural_network import MLPClassifier\n",
        "from sklearn.model_selection import train_test_split, cross_val_score"
      ],
      "metadata": {
        "id": "a9zKO47fee2z"
      },
      "execution_count": null,
      "outputs": []
    },
    {
      "cell_type": "code",
      "source": [
        "# Adjusting the model to potentially train faster\n",
        "mlp = MLPClassifier(\n",
        "    hidden_layer_sizes=(50,),  # Using a single hidden layer with fewer neurons\n",
        "    max_iter=50,  # Reduce the number of iterations\n",
        "    activation='relu',\n",
        "    solver='adam',  # Consider trying 'sgd' with a well-chosen learning rate for potentially faster training\n",
        "    batch_size=128,  # Increased batch size for faster epoch processing\n",
        "    early_stopping=True,  # Enable early stopping\n",
        "    n_iter_no_change=5,  # Number of iterations with no improvement to wait before stopping the training\n",
        "    random_state=42,\n",
        "    verbose=True\n",
        ")"
      ],
      "metadata": {
        "id": "cEfofPzMOcIx"
      },
      "execution_count": null,
      "outputs": []
    },
    {
      "cell_type": "code",
      "source": [
        "# Train the model\n",
        "mlp.fit(X_train_tfidf, y_train)"
      ],
      "metadata": {
        "colab": {
          "base_uri": "https://localhost:8080/",
          "height": 554
        },
        "id": "2hIW3FP0OjPf",
        "outputId": "de5ac790-45da-4573-c9da-464ab2d61c78"
      },
      "execution_count": null,
      "outputs": [
        {
          "output_type": "stream",
          "name": "stdout",
          "text": [
            "Iteration 1, loss = 0.46832794\n",
            "Validation score: 0.783500\n",
            "Iteration 2, loss = 0.45114134\n",
            "Validation score: 0.785867\n",
            "Iteration 3, loss = 0.44596876\n",
            "Validation score: 0.787695\n",
            "Iteration 4, loss = 0.44106197\n",
            "Validation score: 0.787977\n",
            "Iteration 5, loss = 0.43528435\n",
            "Validation score: 0.788141\n",
            "Iteration 6, loss = 0.42863386\n",
            "Validation score: 0.788547\n",
            "Iteration 7, loss = 0.42111257\n",
            "Validation score: 0.787898\n",
            "Iteration 8, loss = 0.41305090\n",
            "Validation score: 0.786586\n",
            "Iteration 9, loss = 0.40409796\n",
            "Validation score: 0.785109\n",
            "Iteration 10, loss = 0.39465444\n",
            "Validation score: 0.783648\n",
            "Iteration 11, loss = 0.38463568\n",
            "Validation score: 0.781359\n",
            "Iteration 12, loss = 0.37453264\n",
            "Validation score: 0.779234\n",
            "Validation score did not improve more than tol=0.000100 for 5 consecutive epochs. Stopping.\n"
          ]
        },
        {
          "output_type": "execute_result",
          "data": {
            "text/plain": [
              "MLPClassifier(batch_size=128, early_stopping=True, hidden_layer_sizes=(50,),\n",
              "              max_iter=50, n_iter_no_change=5, random_state=42, verbose=True)"
            ],
            "text/html": [
              "<style>#sk-container-id-2 {color: black;background-color: white;}#sk-container-id-2 pre{padding: 0;}#sk-container-id-2 div.sk-toggleable {background-color: white;}#sk-container-id-2 label.sk-toggleable__label {cursor: pointer;display: block;width: 100%;margin-bottom: 0;padding: 0.3em;box-sizing: border-box;text-align: center;}#sk-container-id-2 label.sk-toggleable__label-arrow:before {content: \"▸\";float: left;margin-right: 0.25em;color: #696969;}#sk-container-id-2 label.sk-toggleable__label-arrow:hover:before {color: black;}#sk-container-id-2 div.sk-estimator:hover label.sk-toggleable__label-arrow:before {color: black;}#sk-container-id-2 div.sk-toggleable__content {max-height: 0;max-width: 0;overflow: hidden;text-align: left;background-color: #f0f8ff;}#sk-container-id-2 div.sk-toggleable__content pre {margin: 0.2em;color: black;border-radius: 0.25em;background-color: #f0f8ff;}#sk-container-id-2 input.sk-toggleable__control:checked~div.sk-toggleable__content {max-height: 200px;max-width: 100%;overflow: auto;}#sk-container-id-2 input.sk-toggleable__control:checked~label.sk-toggleable__label-arrow:before {content: \"▾\";}#sk-container-id-2 div.sk-estimator input.sk-toggleable__control:checked~label.sk-toggleable__label {background-color: #d4ebff;}#sk-container-id-2 div.sk-label input.sk-toggleable__control:checked~label.sk-toggleable__label {background-color: #d4ebff;}#sk-container-id-2 input.sk-hidden--visually {border: 0;clip: rect(1px 1px 1px 1px);clip: rect(1px, 1px, 1px, 1px);height: 1px;margin: -1px;overflow: hidden;padding: 0;position: absolute;width: 1px;}#sk-container-id-2 div.sk-estimator {font-family: monospace;background-color: #f0f8ff;border: 1px dotted black;border-radius: 0.25em;box-sizing: border-box;margin-bottom: 0.5em;}#sk-container-id-2 div.sk-estimator:hover {background-color: #d4ebff;}#sk-container-id-2 div.sk-parallel-item::after {content: \"\";width: 100%;border-bottom: 1px solid gray;flex-grow: 1;}#sk-container-id-2 div.sk-label:hover label.sk-toggleable__label {background-color: #d4ebff;}#sk-container-id-2 div.sk-serial::before {content: \"\";position: absolute;border-left: 1px solid gray;box-sizing: border-box;top: 0;bottom: 0;left: 50%;z-index: 0;}#sk-container-id-2 div.sk-serial {display: flex;flex-direction: column;align-items: center;background-color: white;padding-right: 0.2em;padding-left: 0.2em;position: relative;}#sk-container-id-2 div.sk-item {position: relative;z-index: 1;}#sk-container-id-2 div.sk-parallel {display: flex;align-items: stretch;justify-content: center;background-color: white;position: relative;}#sk-container-id-2 div.sk-item::before, #sk-container-id-2 div.sk-parallel-item::before {content: \"\";position: absolute;border-left: 1px solid gray;box-sizing: border-box;top: 0;bottom: 0;left: 50%;z-index: -1;}#sk-container-id-2 div.sk-parallel-item {display: flex;flex-direction: column;z-index: 1;position: relative;background-color: white;}#sk-container-id-2 div.sk-parallel-item:first-child::after {align-self: flex-end;width: 50%;}#sk-container-id-2 div.sk-parallel-item:last-child::after {align-self: flex-start;width: 50%;}#sk-container-id-2 div.sk-parallel-item:only-child::after {width: 0;}#sk-container-id-2 div.sk-dashed-wrapped {border: 1px dashed gray;margin: 0 0.4em 0.5em 0.4em;box-sizing: border-box;padding-bottom: 0.4em;background-color: white;}#sk-container-id-2 div.sk-label label {font-family: monospace;font-weight: bold;display: inline-block;line-height: 1.2em;}#sk-container-id-2 div.sk-label-container {text-align: center;}#sk-container-id-2 div.sk-container {/* jupyter's `normalize.less` sets `[hidden] { display: none; }` but bootstrap.min.css set `[hidden] { display: none !important; }` so we also need the `!important` here to be able to override the default hidden behavior on the sphinx rendered scikit-learn.org. See: https://github.com/scikit-learn/scikit-learn/issues/21755 */display: inline-block !important;position: relative;}#sk-container-id-2 div.sk-text-repr-fallback {display: none;}</style><div id=\"sk-container-id-2\" class=\"sk-top-container\"><div class=\"sk-text-repr-fallback\"><pre>MLPClassifier(batch_size=128, early_stopping=True, hidden_layer_sizes=(50,),\n",
              "              max_iter=50, n_iter_no_change=5, random_state=42, verbose=True)</pre><b>In a Jupyter environment, please rerun this cell to show the HTML representation or trust the notebook. <br />On GitHub, the HTML representation is unable to render, please try loading this page with nbviewer.org.</b></div><div class=\"sk-container\" hidden><div class=\"sk-item\"><div class=\"sk-estimator sk-toggleable\"><input class=\"sk-toggleable__control sk-hidden--visually\" id=\"sk-estimator-id-2\" type=\"checkbox\" checked><label for=\"sk-estimator-id-2\" class=\"sk-toggleable__label sk-toggleable__label-arrow\">MLPClassifier</label><div class=\"sk-toggleable__content\"><pre>MLPClassifier(batch_size=128, early_stopping=True, hidden_layer_sizes=(50,),\n",
              "              max_iter=50, n_iter_no_change=5, random_state=42, verbose=True)</pre></div></div></div></div></div>"
            ]
          },
          "metadata": {},
          "execution_count": 39
        }
      ]
    },
    {
      "cell_type": "code",
      "source": [
        "# Predict on the test set\n",
        "y_pred = mlp.predict(X_test_tfidf)\n",
        "\n",
        "# Calculate performance metrics\n",
        "print(\"ANN Model Performance metrics:\")\n",
        "print(\"-\" * 30)\n",
        "print(f\"Accuracy: {accuracy_score(y_test, y_pred):.4f}\")\n",
        "print(f\"Precision: {precision_score(y_test, y_pred, average='weighted'):.4f}\")\n",
        "print(f\"Recall: {recall_score(y_test, y_pred, average='weighted'):.4f}\")\n",
        "print(f\"F1 Score: {f1_score(y_test, y_pred, average='weighted'):.4f}\")\n",
        "print()\n",
        "\n",
        "# Detailed classification report\n",
        "print(\"Model Classification report:\")\n",
        "print(\"-\" * 30)\n",
        "print(classification_report(y_test, y_pred))"
      ],
      "metadata": {
        "id": "xmx27Usm0SGq",
        "colab": {
          "base_uri": "https://localhost:8080/"
        },
        "outputId": "b3ee6db6-e313-40fa-9eeb-be7930c1ec2d"
      },
      "execution_count": null,
      "outputs": [
        {
          "output_type": "stream",
          "name": "stdout",
          "text": [
            "ANN Model Performance metrics:\n",
            "------------------------------\n",
            "Accuracy: 0.7884\n",
            "Precision: 0.7885\n",
            "Recall: 0.7884\n",
            "F1 Score: 0.7884\n",
            "\n",
            "Model Classification report:\n",
            "------------------------------\n",
            "              precision    recall  f1-score   support\n",
            "\n",
            "           0       0.79      0.78      0.79    159494\n",
            "           1       0.79      0.79      0.79    160506\n",
            "\n",
            "    accuracy                           0.79    320000\n",
            "   macro avg       0.79      0.79      0.79    320000\n",
            "weighted avg       0.79      0.79      0.79    320000\n",
            "\n"
          ]
        }
      ]
    },
    {
      "cell_type": "markdown",
      "source": [
        "##4.7. VADER Lexicon"
      ],
      "metadata": {
        "id": "3EMdKtMxNgBw"
      }
    },
    {
      "cell_type": "code",
      "source": [
        "# Download the VADER lexicon from NLTK\n",
        "import nltk\n",
        "nltk.download('vader_lexicon')"
      ],
      "metadata": {
        "id": "-rD5xjkjN9iV",
        "colab": {
          "base_uri": "https://localhost:8080/"
        },
        "outputId": "e94ad29a-ab64-4526-9c37-a36b55d71852"
      },
      "execution_count": null,
      "outputs": [
        {
          "output_type": "stream",
          "name": "stderr",
          "text": [
            "[nltk_data] Downloading package vader_lexicon to /root/nltk_data...\n"
          ]
        },
        {
          "output_type": "execute_result",
          "data": {
            "text/plain": [
              "True"
            ]
          },
          "metadata": {},
          "execution_count": 41
        }
      ]
    },
    {
      "cell_type": "code",
      "source": [
        "# Import the SentimentIntensityAnalyzer class from NLTK's VADER module\n",
        "!pip install vaderSentiment\n",
        "from vaderSentiment.vaderSentiment import SentimentIntensityAnalyzer\n",
        "from nltk.sentiment.vader import SentimentIntensityAnalyzer"
      ],
      "metadata": {
        "id": "iEOjqPzOOAzp",
        "colab": {
          "base_uri": "https://localhost:8080/"
        },
        "outputId": "473c5f7d-464d-460b-843a-626c2a45d31d"
      },
      "execution_count": null,
      "outputs": [
        {
          "output_type": "stream",
          "name": "stdout",
          "text": [
            "Collecting vaderSentiment\n",
            "  Downloading vaderSentiment-3.3.2-py2.py3-none-any.whl (125 kB)\n",
            "\u001b[?25l     \u001b[90m━━━━━━━━━━━━━━━━━━━━━━━━━━━━━━━━━━━━━━━━\u001b[0m \u001b[32m0.0/126.0 kB\u001b[0m \u001b[31m?\u001b[0m eta \u001b[36m-:--:--\u001b[0m\r\u001b[2K     \u001b[91m━━━━━━━━━━━━━━━━━━━━━━━━━━━━━━━━━━━━━━━\u001b[0m\u001b[90m╺\u001b[0m \u001b[32m122.9/126.0 kB\u001b[0m \u001b[31m3.9 MB/s\u001b[0m eta \u001b[36m0:00:01\u001b[0m\r\u001b[2K     \u001b[90m━━━━━━━━━━━━━━━━━━━━━━━━━━━━━━━━━━━━━━━━\u001b[0m \u001b[32m126.0/126.0 kB\u001b[0m \u001b[31m3.2 MB/s\u001b[0m eta \u001b[36m0:00:00\u001b[0m\n",
            "\u001b[?25hRequirement already satisfied: requests in /usr/local/lib/python3.10/dist-packages (from vaderSentiment) (2.31.0)\n",
            "Requirement already satisfied: charset-normalizer<4,>=2 in /usr/local/lib/python3.10/dist-packages (from requests->vaderSentiment) (3.3.2)\n",
            "Requirement already satisfied: idna<4,>=2.5 in /usr/local/lib/python3.10/dist-packages (from requests->vaderSentiment) (3.7)\n",
            "Requirement already satisfied: urllib3<3,>=1.21.1 in /usr/local/lib/python3.10/dist-packages (from requests->vaderSentiment) (2.0.7)\n",
            "Requirement already satisfied: certifi>=2017.4.17 in /usr/local/lib/python3.10/dist-packages (from requests->vaderSentiment) (2024.2.2)\n",
            "Installing collected packages: vaderSentiment\n",
            "Successfully installed vaderSentiment-3.3.2\n"
          ]
        }
      ]
    },
    {
      "cell_type": "code",
      "source": [
        "# Initialize VADER sentiment analyzer\n",
        "analyzer = SentimentIntensityAnalyzer()"
      ],
      "metadata": {
        "id": "sLQU-31TODQ5"
      },
      "execution_count": null,
      "outputs": []
    },
    {
      "cell_type": "code",
      "source": [
        "'''\n",
        "Perform sentiment analysis using VADER lexicon on text data stored in a DataFrame.\n",
        "\n",
        "    Parameters:\n",
        "        data (DataFrame): DataFrame containing the text data.\n",
        "        text_column (str): Name of the column containing the text data. Default is 'text'.\n",
        "        threshold (float): Threshold value used to determine final sentiment. Default is 0.1.\n",
        "        verbose (bool): Whether to display detailed sentiment statistics. Default is False.\n",
        "'''\n",
        "def analyze_sentiment_vader_lexicon(data, text_column='text', threshold=0.1, verbose=False):\n",
        "\n",
        "    # Analyze sentiment for each text\n",
        "    sentiments = []\n",
        "    for text in data[text_column]:\n",
        "        scores = analyzer.polarity_scores(text)  # Assuming 'analyzer' is already defined outside this function\n",
        "        agg_score = scores['compound']\n",
        "        final_sentiment = 'positive' if agg_score >= threshold else 'negative'\n",
        "        sentiments.append(final_sentiment)\n",
        "\n",
        "    # Add 'sentiment' column to DataFrame\n",
        "    data['sentiment'] = sentiments\n",
        "\n",
        "    # Display detailed sentiment statistics if verbose is True\n",
        "    if verbose:\n",
        "        sentiment_stats = []\n",
        "        for text in data[text_column]:\n",
        "            scores = analyzer.polarity_scores(text)  # Assuming 'analyzer' is already defined outside this function\n",
        "            positive = round(scores['pos'] * 100, 2)\n",
        "            negative = round(scores['neg'] * 100, 2)\n",
        "            sentiment_stats.append((positive, negative))\n",
        "\n",
        "        sentiment_stats_df = pd.DataFrame(sentiment_stats, columns=['Positive', 'Negative'])\n",
        "        data = pd.concat([data, sentiment_stats_df], axis=1)\n",
        "\n",
        "    return data"
      ],
      "metadata": {
        "id": "2403zs-eORuj"
      },
      "execution_count": null,
      "outputs": []
    },
    {
      "cell_type": "code",
      "source": [
        "# Predict sentiment for each text in the DataFrame using VADER lexicon with custom threshold\n",
        "predicted_sentiments = analyze_sentiment_vader_lexicon(data, text_column='text', threshold=0.4, verbose=False)"
      ],
      "metadata": {
        "id": "kv9dfHTD7yst"
      },
      "execution_count": null,
      "outputs": []
    },
    {
      "cell_type": "code",
      "source": [
        "#Extract sentiment labels from the dataframe\n",
        "test_sentiments = data['label']\n",
        "\n",
        "# Convert sentiment labels to match the format (0 for negative, 1 for positive)\n",
        "predicted_sentiments['predicted_label'] = predicted_sentiments['sentiment'].map({'negative': 0, 'positive': 1})"
      ],
      "metadata": {
        "id": "kl_UQZ63K4cv"
      },
      "execution_count": null,
      "outputs": []
    },
    {
      "cell_type": "code",
      "source": [
        "# Set up variables vader_pred and y_vtest for convenience\n",
        "vader_pred = predicted_sentiments['predicted_label']\n",
        "y_vtest = test_sentiments\n",
        "\n",
        "# Calculate performance metrics\n",
        "print(\"VADER Model Performance metrics:\")\n",
        "print(\"-\" * 30)\n",
        "print(f\"Accuracy: {accuracy_score(y_vtest, vader_pred):.4f}\")\n",
        "print(f\"Precision: {precision_score(y_vtest, vader_pred, average='weighted'):.4f}\")\n",
        "print(f\"Recall: {recall_score(y_vtest, vader_pred, average='weighted'):.4f}\")\n",
        "print(f\"F1 Score: {f1_score(y_vtest, vader_pred, average='weighted'):.4f}\")\n",
        "print()\n",
        "\n",
        "# Detailed classification report\n",
        "print(\"Model Classification report:\")\n",
        "print(\"-\" * 30)\n",
        "print(classification_report(y_vtest, vader_pred))"
      ],
      "metadata": {
        "colab": {
          "base_uri": "https://localhost:8080/"
        },
        "id": "QL60GscVLMcA",
        "outputId": "41636f54-ff00-4abd-95b5-3394d364086a"
      },
      "execution_count": null,
      "outputs": [
        {
          "output_type": "stream",
          "name": "stdout",
          "text": [
            "VADER Model Performance metrics:\n",
            "------------------------------\n",
            "Accuracy: 0.6438\n",
            "Precision: 0.6575\n",
            "Recall: 0.6438\n",
            "F1 Score: 0.6358\n",
            "\n",
            "Model Classification report:\n",
            "------------------------------\n",
            "              precision    recall  f1-score   support\n",
            "\n",
            "           0       0.61      0.79      0.69    800000\n",
            "           1       0.70      0.50      0.58    800000\n",
            "\n",
            "    accuracy                           0.64   1600000\n",
            "   macro avg       0.66      0.64      0.64   1600000\n",
            "weighted avg       0.66      0.64      0.64   1600000\n",
            "\n"
          ]
        }
      ]
    },
    {
      "cell_type": "markdown",
      "metadata": {
        "id": "WphXuwSnTN5s"
      },
      "source": [
        "#5. Model Evaluation"
      ]
    },
    {
      "cell_type": "code",
      "source": [
        "from sklearn.metrics import accuracy_score, precision_score, recall_score, f1_score\n",
        "import pandas as pd\n",
        "\n",
        "# Dictionary to hold the performance metrics\n",
        "model_performance = {}\n",
        "\n",
        "# List of model predictions for iteration\n",
        "predictions = [\n",
        "    ('Logistic Regression', logreg_pred),\n",
        "    ('Naive Bayes', nb_pred),\n",
        "    ('LinearSVC', svm_pred),\n",
        "    ('Random Forest', rf_pred),\n",
        "    ('SGDC Classifier', sgdc_pred),\n",
        "    ('Artificial Neural Network', y_pred)\n",
        "    ]\n",
        "\n",
        "# Calculate metrics for each model\n",
        "for model_name, model_pred in predictions:\n",
        "    model_performance[model_name] = {\n",
        "        'Accuracy': accuracy_score(y_test, model_pred),\n",
        "        'Precision': precision_score(y_test, model_pred, average='weighted'),\n",
        "        'Recall': recall_score(y_test, model_pred, average='weighted'),\n",
        "        'F1 Score': f1_score(y_test, model_pred, average='weighted')\n",
        "    }\n",
        "\n",
        "# Convert the dictionary to a DataFrame for better visualization\n",
        "performance_df = pd.DataFrame(model_performance).T\n",
        "performance_df\n"
      ],
      "metadata": {
        "colab": {
          "base_uri": "https://localhost:8080/",
          "height": 237
        },
        "id": "PkXLNqZZvEkC",
        "outputId": "6d89922b-a107-49cb-c59f-6b3c46148e78"
      },
      "execution_count": null,
      "outputs": [
        {
          "output_type": "execute_result",
          "data": {
            "text/plain": [
              "                           Accuracy  Precision    Recall  F1 Score\n",
              "Logistic Regression        0.784391   0.784939  0.784391  0.784266\n",
              "Naive Bayes                0.766969   0.767007  0.766969  0.766966\n",
              "LinearSVC                  0.783559   0.784363  0.783559  0.783381\n",
              "Random Forest              0.707125   0.717806  0.707125  0.703316\n",
              "SGDC Classifier            0.764334   0.764896  0.764334  0.764184\n",
              "Artificial Neural Network  0.788447   0.788458  0.788447  0.788442"
            ],
            "text/html": [
              "\n",
              "  <div id=\"df-174aca27-9105-4cb9-b893-d08cebac7a35\" class=\"colab-df-container\">\n",
              "    <div>\n",
              "<style scoped>\n",
              "    .dataframe tbody tr th:only-of-type {\n",
              "        vertical-align: middle;\n",
              "    }\n",
              "\n",
              "    .dataframe tbody tr th {\n",
              "        vertical-align: top;\n",
              "    }\n",
              "\n",
              "    .dataframe thead th {\n",
              "        text-align: right;\n",
              "    }\n",
              "</style>\n",
              "<table border=\"1\" class=\"dataframe\">\n",
              "  <thead>\n",
              "    <tr style=\"text-align: right;\">\n",
              "      <th></th>\n",
              "      <th>Accuracy</th>\n",
              "      <th>Precision</th>\n",
              "      <th>Recall</th>\n",
              "      <th>F1 Score</th>\n",
              "    </tr>\n",
              "  </thead>\n",
              "  <tbody>\n",
              "    <tr>\n",
              "      <th>Logistic Regression</th>\n",
              "      <td>0.784391</td>\n",
              "      <td>0.784939</td>\n",
              "      <td>0.784391</td>\n",
              "      <td>0.784266</td>\n",
              "    </tr>\n",
              "    <tr>\n",
              "      <th>Naive Bayes</th>\n",
              "      <td>0.766969</td>\n",
              "      <td>0.767007</td>\n",
              "      <td>0.766969</td>\n",
              "      <td>0.766966</td>\n",
              "    </tr>\n",
              "    <tr>\n",
              "      <th>LinearSVC</th>\n",
              "      <td>0.783559</td>\n",
              "      <td>0.784363</td>\n",
              "      <td>0.783559</td>\n",
              "      <td>0.783381</td>\n",
              "    </tr>\n",
              "    <tr>\n",
              "      <th>Random Forest</th>\n",
              "      <td>0.707125</td>\n",
              "      <td>0.717806</td>\n",
              "      <td>0.707125</td>\n",
              "      <td>0.703316</td>\n",
              "    </tr>\n",
              "    <tr>\n",
              "      <th>SGDC Classifier</th>\n",
              "      <td>0.764334</td>\n",
              "      <td>0.764896</td>\n",
              "      <td>0.764334</td>\n",
              "      <td>0.764184</td>\n",
              "    </tr>\n",
              "    <tr>\n",
              "      <th>Artificial Neural Network</th>\n",
              "      <td>0.788447</td>\n",
              "      <td>0.788458</td>\n",
              "      <td>0.788447</td>\n",
              "      <td>0.788442</td>\n",
              "    </tr>\n",
              "  </tbody>\n",
              "</table>\n",
              "</div>\n",
              "    <div class=\"colab-df-buttons\">\n",
              "\n",
              "  <div class=\"colab-df-container\">\n",
              "    <button class=\"colab-df-convert\" onclick=\"convertToInteractive('df-174aca27-9105-4cb9-b893-d08cebac7a35')\"\n",
              "            title=\"Convert this dataframe to an interactive table.\"\n",
              "            style=\"display:none;\">\n",
              "\n",
              "  <svg xmlns=\"http://www.w3.org/2000/svg\" height=\"24px\" viewBox=\"0 -960 960 960\">\n",
              "    <path d=\"M120-120v-720h720v720H120Zm60-500h600v-160H180v160Zm220 220h160v-160H400v160Zm0 220h160v-160H400v160ZM180-400h160v-160H180v160Zm440 0h160v-160H620v160ZM180-180h160v-160H180v160Zm440 0h160v-160H620v160Z\"/>\n",
              "  </svg>\n",
              "    </button>\n",
              "\n",
              "  <style>\n",
              "    .colab-df-container {\n",
              "      display:flex;\n",
              "      gap: 12px;\n",
              "    }\n",
              "\n",
              "    .colab-df-convert {\n",
              "      background-color: #E8F0FE;\n",
              "      border: none;\n",
              "      border-radius: 50%;\n",
              "      cursor: pointer;\n",
              "      display: none;\n",
              "      fill: #1967D2;\n",
              "      height: 32px;\n",
              "      padding: 0 0 0 0;\n",
              "      width: 32px;\n",
              "    }\n",
              "\n",
              "    .colab-df-convert:hover {\n",
              "      background-color: #E2EBFA;\n",
              "      box-shadow: 0px 1px 2px rgba(60, 64, 67, 0.3), 0px 1px 3px 1px rgba(60, 64, 67, 0.15);\n",
              "      fill: #174EA6;\n",
              "    }\n",
              "\n",
              "    .colab-df-buttons div {\n",
              "      margin-bottom: 4px;\n",
              "    }\n",
              "\n",
              "    [theme=dark] .colab-df-convert {\n",
              "      background-color: #3B4455;\n",
              "      fill: #D2E3FC;\n",
              "    }\n",
              "\n",
              "    [theme=dark] .colab-df-convert:hover {\n",
              "      background-color: #434B5C;\n",
              "      box-shadow: 0px 1px 3px 1px rgba(0, 0, 0, 0.15);\n",
              "      filter: drop-shadow(0px 1px 2px rgba(0, 0, 0, 0.3));\n",
              "      fill: #FFFFFF;\n",
              "    }\n",
              "  </style>\n",
              "\n",
              "    <script>\n",
              "      const buttonEl =\n",
              "        document.querySelector('#df-174aca27-9105-4cb9-b893-d08cebac7a35 button.colab-df-convert');\n",
              "      buttonEl.style.display =\n",
              "        google.colab.kernel.accessAllowed ? 'block' : 'none';\n",
              "\n",
              "      async function convertToInteractive(key) {\n",
              "        const element = document.querySelector('#df-174aca27-9105-4cb9-b893-d08cebac7a35');\n",
              "        const dataTable =\n",
              "          await google.colab.kernel.invokeFunction('convertToInteractive',\n",
              "                                                    [key], {});\n",
              "        if (!dataTable) return;\n",
              "\n",
              "        const docLinkHtml = 'Like what you see? Visit the ' +\n",
              "          '<a target=\"_blank\" href=https://colab.research.google.com/notebooks/data_table.ipynb>data table notebook</a>'\n",
              "          + ' to learn more about interactive tables.';\n",
              "        element.innerHTML = '';\n",
              "        dataTable['output_type'] = 'display_data';\n",
              "        await google.colab.output.renderOutput(dataTable, element);\n",
              "        const docLink = document.createElement('div');\n",
              "        docLink.innerHTML = docLinkHtml;\n",
              "        element.appendChild(docLink);\n",
              "      }\n",
              "    </script>\n",
              "  </div>\n",
              "\n",
              "\n",
              "<div id=\"df-3fb5b29d-c2a0-4e0a-a3fe-803420ed2b70\">\n",
              "  <button class=\"colab-df-quickchart\" onclick=\"quickchart('df-3fb5b29d-c2a0-4e0a-a3fe-803420ed2b70')\"\n",
              "            title=\"Suggest charts\"\n",
              "            style=\"display:none;\">\n",
              "\n",
              "<svg xmlns=\"http://www.w3.org/2000/svg\" height=\"24px\"viewBox=\"0 0 24 24\"\n",
              "     width=\"24px\">\n",
              "    <g>\n",
              "        <path d=\"M19 3H5c-1.1 0-2 .9-2 2v14c0 1.1.9 2 2 2h14c1.1 0 2-.9 2-2V5c0-1.1-.9-2-2-2zM9 17H7v-7h2v7zm4 0h-2V7h2v10zm4 0h-2v-4h2v4z\"/>\n",
              "    </g>\n",
              "</svg>\n",
              "  </button>\n",
              "\n",
              "<style>\n",
              "  .colab-df-quickchart {\n",
              "      --bg-color: #E8F0FE;\n",
              "      --fill-color: #1967D2;\n",
              "      --hover-bg-color: #E2EBFA;\n",
              "      --hover-fill-color: #174EA6;\n",
              "      --disabled-fill-color: #AAA;\n",
              "      --disabled-bg-color: #DDD;\n",
              "  }\n",
              "\n",
              "  [theme=dark] .colab-df-quickchart {\n",
              "      --bg-color: #3B4455;\n",
              "      --fill-color: #D2E3FC;\n",
              "      --hover-bg-color: #434B5C;\n",
              "      --hover-fill-color: #FFFFFF;\n",
              "      --disabled-bg-color: #3B4455;\n",
              "      --disabled-fill-color: #666;\n",
              "  }\n",
              "\n",
              "  .colab-df-quickchart {\n",
              "    background-color: var(--bg-color);\n",
              "    border: none;\n",
              "    border-radius: 50%;\n",
              "    cursor: pointer;\n",
              "    display: none;\n",
              "    fill: var(--fill-color);\n",
              "    height: 32px;\n",
              "    padding: 0;\n",
              "    width: 32px;\n",
              "  }\n",
              "\n",
              "  .colab-df-quickchart:hover {\n",
              "    background-color: var(--hover-bg-color);\n",
              "    box-shadow: 0 1px 2px rgba(60, 64, 67, 0.3), 0 1px 3px 1px rgba(60, 64, 67, 0.15);\n",
              "    fill: var(--button-hover-fill-color);\n",
              "  }\n",
              "\n",
              "  .colab-df-quickchart-complete:disabled,\n",
              "  .colab-df-quickchart-complete:disabled:hover {\n",
              "    background-color: var(--disabled-bg-color);\n",
              "    fill: var(--disabled-fill-color);\n",
              "    box-shadow: none;\n",
              "  }\n",
              "\n",
              "  .colab-df-spinner {\n",
              "    border: 2px solid var(--fill-color);\n",
              "    border-color: transparent;\n",
              "    border-bottom-color: var(--fill-color);\n",
              "    animation:\n",
              "      spin 1s steps(1) infinite;\n",
              "  }\n",
              "\n",
              "  @keyframes spin {\n",
              "    0% {\n",
              "      border-color: transparent;\n",
              "      border-bottom-color: var(--fill-color);\n",
              "      border-left-color: var(--fill-color);\n",
              "    }\n",
              "    20% {\n",
              "      border-color: transparent;\n",
              "      border-left-color: var(--fill-color);\n",
              "      border-top-color: var(--fill-color);\n",
              "    }\n",
              "    30% {\n",
              "      border-color: transparent;\n",
              "      border-left-color: var(--fill-color);\n",
              "      border-top-color: var(--fill-color);\n",
              "      border-right-color: var(--fill-color);\n",
              "    }\n",
              "    40% {\n",
              "      border-color: transparent;\n",
              "      border-right-color: var(--fill-color);\n",
              "      border-top-color: var(--fill-color);\n",
              "    }\n",
              "    60% {\n",
              "      border-color: transparent;\n",
              "      border-right-color: var(--fill-color);\n",
              "    }\n",
              "    80% {\n",
              "      border-color: transparent;\n",
              "      border-right-color: var(--fill-color);\n",
              "      border-bottom-color: var(--fill-color);\n",
              "    }\n",
              "    90% {\n",
              "      border-color: transparent;\n",
              "      border-bottom-color: var(--fill-color);\n",
              "    }\n",
              "  }\n",
              "</style>\n",
              "\n",
              "  <script>\n",
              "    async function quickchart(key) {\n",
              "      const quickchartButtonEl =\n",
              "        document.querySelector('#' + key + ' button');\n",
              "      quickchartButtonEl.disabled = true;  // To prevent multiple clicks.\n",
              "      quickchartButtonEl.classList.add('colab-df-spinner');\n",
              "      try {\n",
              "        const charts = await google.colab.kernel.invokeFunction(\n",
              "            'suggestCharts', [key], {});\n",
              "      } catch (error) {\n",
              "        console.error('Error during call to suggestCharts:', error);\n",
              "      }\n",
              "      quickchartButtonEl.classList.remove('colab-df-spinner');\n",
              "      quickchartButtonEl.classList.add('colab-df-quickchart-complete');\n",
              "    }\n",
              "    (() => {\n",
              "      let quickchartButtonEl =\n",
              "        document.querySelector('#df-3fb5b29d-c2a0-4e0a-a3fe-803420ed2b70 button');\n",
              "      quickchartButtonEl.style.display =\n",
              "        google.colab.kernel.accessAllowed ? 'block' : 'none';\n",
              "    })();\n",
              "  </script>\n",
              "</div>\n",
              "\n",
              "  <div id=\"id_84b17a9b-cc2d-4cf7-bfe5-dc6c446f31d8\">\n",
              "    <style>\n",
              "      .colab-df-generate {\n",
              "        background-color: #E8F0FE;\n",
              "        border: none;\n",
              "        border-radius: 50%;\n",
              "        cursor: pointer;\n",
              "        display: none;\n",
              "        fill: #1967D2;\n",
              "        height: 32px;\n",
              "        padding: 0 0 0 0;\n",
              "        width: 32px;\n",
              "      }\n",
              "\n",
              "      .colab-df-generate:hover {\n",
              "        background-color: #E2EBFA;\n",
              "        box-shadow: 0px 1px 2px rgba(60, 64, 67, 0.3), 0px 1px 3px 1px rgba(60, 64, 67, 0.15);\n",
              "        fill: #174EA6;\n",
              "      }\n",
              "\n",
              "      [theme=dark] .colab-df-generate {\n",
              "        background-color: #3B4455;\n",
              "        fill: #D2E3FC;\n",
              "      }\n",
              "\n",
              "      [theme=dark] .colab-df-generate:hover {\n",
              "        background-color: #434B5C;\n",
              "        box-shadow: 0px 1px 3px 1px rgba(0, 0, 0, 0.15);\n",
              "        filter: drop-shadow(0px 1px 2px rgba(0, 0, 0, 0.3));\n",
              "        fill: #FFFFFF;\n",
              "      }\n",
              "    </style>\n",
              "    <button class=\"colab-df-generate\" onclick=\"generateWithVariable('performance_df')\"\n",
              "            title=\"Generate code using this dataframe.\"\n",
              "            style=\"display:none;\">\n",
              "\n",
              "  <svg xmlns=\"http://www.w3.org/2000/svg\" height=\"24px\"viewBox=\"0 0 24 24\"\n",
              "       width=\"24px\">\n",
              "    <path d=\"M7,19H8.4L18.45,9,17,7.55,7,17.6ZM5,21V16.75L18.45,3.32a2,2,0,0,1,2.83,0l1.4,1.43a1.91,1.91,0,0,1,.58,1.4,1.91,1.91,0,0,1-.58,1.4L9.25,21ZM18.45,9,17,7.55Zm-12,3A5.31,5.31,0,0,0,4.9,8.1,5.31,5.31,0,0,0,1,6.5,5.31,5.31,0,0,0,4.9,4.9,5.31,5.31,0,0,0,6.5,1,5.31,5.31,0,0,0,8.1,4.9,5.31,5.31,0,0,0,12,6.5,5.46,5.46,0,0,0,6.5,12Z\"/>\n",
              "  </svg>\n",
              "    </button>\n",
              "    <script>\n",
              "      (() => {\n",
              "      const buttonEl =\n",
              "        document.querySelector('#id_84b17a9b-cc2d-4cf7-bfe5-dc6c446f31d8 button.colab-df-generate');\n",
              "      buttonEl.style.display =\n",
              "        google.colab.kernel.accessAllowed ? 'block' : 'none';\n",
              "\n",
              "      buttonEl.onclick = () => {\n",
              "        google.colab.notebook.generateWithVariable('performance_df');\n",
              "      }\n",
              "      })();\n",
              "    </script>\n",
              "  </div>\n",
              "\n",
              "    </div>\n",
              "  </div>\n"
            ],
            "application/vnd.google.colaboratory.intrinsic+json": {
              "type": "dataframe",
              "variable_name": "performance_df",
              "summary": "{\n  \"name\": \"performance_df\",\n  \"rows\": 6,\n  \"fields\": [\n    {\n      \"column\": \"Accuracy\",\n      \"properties\": {\n        \"dtype\": \"number\",\n        \"std\": 0.03039788558299189,\n        \"min\": 0.707125,\n        \"max\": 0.788446875,\n        \"num_unique_values\": 6,\n        \"samples\": [\n          0.784390625,\n          0.76696875,\n          0.788446875\n        ],\n        \"semantic_type\": \"\",\n        \"description\": \"\"\n      }\n    },\n    {\n      \"column\": \"Precision\",\n      \"properties\": {\n        \"dtype\": \"number\",\n        \"std\": 0.026469660098146944,\n        \"min\": 0.7178058521993863,\n        \"max\": 0.7884575190677311,\n        \"num_unique_values\": 6,\n        \"samples\": [\n          0.7849394482529246,\n          0.767007122326812,\n          0.7884575190677311\n        ],\n        \"semantic_type\": \"\",\n        \"description\": \"\"\n      }\n    },\n    {\n      \"column\": \"Recall\",\n      \"properties\": {\n        \"dtype\": \"number\",\n        \"std\": 0.03039788558299189,\n        \"min\": 0.707125,\n        \"max\": 0.788446875,\n        \"num_unique_values\": 6,\n        \"samples\": [\n          0.784390625,\n          0.76696875,\n          0.788446875\n        ],\n        \"semantic_type\": \"\",\n        \"description\": \"\"\n      }\n    },\n    {\n      \"column\": \"F1 Score\",\n      \"properties\": {\n        \"dtype\": \"number\",\n        \"std\": 0.03183671365705177,\n        \"min\": 0.7033162820507431,\n        \"max\": 0.7884415658325418,\n        \"num_unique_values\": 6,\n        \"samples\": [\n          0.7842655608982697,\n          0.7669660337620827,\n          0.7884415658325418\n        ],\n        \"semantic_type\": \"\",\n        \"description\": \"\"\n      }\n    }\n  ]\n}"
            }
          },
          "metadata": {},
          "execution_count": 48
        }
      ]
    },
    {
      "cell_type": "markdown",
      "source": [
        "After comparing all the models, we conclude that the Artificial Neural Network (ANN) was the top performer model with an accuracy of 78.84%. Additionally, it achieved the highest score for precision and recall, both of 78.84%. This indicates that the ANN model not only had strong overall predictive accuracy but also effectively balanced the trade-off between precision (the proportion of correctly predicted positive instances among all predicted positives) and recall (the proportion of correctly predicted positive instances among all actual positives), making it the most reliable model for sentiment analysis tasks.\n",
        "\n",
        "While VADER achieved the lowest performance with an accuracy of 64.38%, it's essential to note that unsupervised models often exhibit lower accuracy compared to supervised models. This discrepancy can be attributed to the fact that unsupervised models, like VADER, operate on unlabeled data and must autonomously discover the underlying structure of it."
      ],
      "metadata": {
        "id": "oZqHhVW1nEo4"
      }
    },
    {
      "cell_type": "markdown",
      "metadata": {
        "id": "7l_8awzQYHii"
      },
      "source": [
        "#6. Model Optimization"
      ]
    },
    {
      "cell_type": "markdown",
      "metadata": {
        "id": "qSlkRm-NYK0x"
      },
      "source": [
        "Model optimization involves selecting the right parameters for our models to improve their performance. This is usually done through a process known as hyperparameter tuning, where we can search through a predefined space of hyperparameters to find the combination that performs best on our validation set. Common strategies include Grid Search and Random Search.\n",
        "\n",
        "We will focus on optimizing the second and third best performing models, Logistic Regression and Linear Support Vector Machine, respectively. Our approach to model optimization will involve:\n",
        "\n",
        "- For Logistic Regression:\n",
        "  - We will optimize the regularization strength (C) using 3-fold cross-validation and l2 penalty.\n",
        "\n",
        "- For Linear SVC:\n",
        "  - We will tune the regularization parameter (C) using a randomized search approach.\n"
      ]
    },
    {
      "cell_type": "code",
      "execution_count": null,
      "metadata": {
        "id": "iaIrLbLHYbyO",
        "colab": {
          "base_uri": "https://localhost:8080/"
        },
        "outputId": "16b39f7f-ac15-494a-c51a-b3479519d9f6"
      },
      "outputs": [
        {
          "output_type": "stream",
          "name": "stdout",
          "text": [
            "Best 'C' Parameter: [0.35938137]\n",
            "              precision    recall  f1-score   support\n",
            "\n",
            "           0       0.80      0.76      0.78    159494\n",
            "           1       0.77      0.81      0.79    160506\n",
            "\n",
            "    accuracy                           0.78    320000\n",
            "   macro avg       0.78      0.78      0.78    320000\n",
            "weighted avg       0.78      0.78      0.78    320000\n",
            "\n"
          ]
        }
      ],
      "source": [
        "from sklearn.linear_model import LogisticRegressionCV\n",
        "\n",
        "# Logistic Regression with built-in Cross-Validation to find the best 'C'\n",
        "log_reg_cv = LogisticRegressionCV(\n",
        "    Cs=10,  # 10 values for 'C' to try\n",
        "    cv=3,  # Fewer folds\n",
        "    penalty='l2',  # Assuming l2 penalty\n",
        "    solver='saga',  # Efficient solver for large datasets\n",
        "    random_state=42,\n",
        "    max_iter=1000,  # May need to increase if convergence warnings arise\n",
        "    n_jobs=-1\n",
        ")\n",
        "\n",
        "# Fit the model\n",
        "log_reg_cv.fit(X_train_tfidf, y_train)\n",
        "\n",
        "# Predictions and report\n",
        "log_reg_cv_pred = log_reg_cv.predict(X_test_tfidf)\n",
        "log_reg_cv_report = classification_report(y_test, log_reg_cv_pred)\n",
        "\n",
        "# Print the best 'C' parameter and the report\n",
        "print(\"Best 'C' Parameter:\", log_reg_cv.C_)\n",
        "print(log_reg_cv_report)\n"
      ]
    },
    {
      "cell_type": "code",
      "source": [
        "from sklearn.svm import LinearSVC\n",
        "from sklearn.model_selection import RandomizedSearchCV\n",
        "from scipy.stats import loguniform\n",
        "from sklearn.metrics import classification_report, accuracy_score\n",
        "\n",
        "# Define your feature matrices and target vectors for both training and testing sets\n",
        "X_train = X_train_tfidf\n",
        "y_train = y_train\n",
        "X_test = X_test_tfidf\n",
        "y_test = y_test\n",
        "\n",
        "# Instantiate the LinearSVC model\n",
        "linear_svc = LinearSVC(dual=False, max_iter=10000, random_state=42)\n",
        "\n",
        "# Define the hyperparameters search space\n",
        "param_distributions = {'C': loguniform(1e-4, 1e2)}\n",
        "\n",
        "# Instantiate the RandomizedSearchCV object\n",
        "random_search_svc = RandomizedSearchCV(\n",
        "    linear_svc,\n",
        "    param_distributions=param_distributions,\n",
        "    n_iter=10,  # Number of parameter settings sampled\n",
        "    cv=3,  # 3-fold cross-validation\n",
        "    verbose=1,\n",
        "    n_jobs=-1,  # Use all available cores\n",
        "    random_state=42\n",
        ")\n",
        "\n",
        "# Fit the RandomizedSearchCV object to the training data\n",
        "random_search_svc.fit(X_train, y_train)\n",
        "\n",
        "# Get the best LinearSVC model\n",
        "best_linear_svc = random_search_svc.best_estimator_\n",
        "\n",
        "# Retrain the model on the entire training dataset using the best-found hyperparameters\n",
        "best_linear_svc.fit(X_train, y_train)\n",
        "\n",
        "# Predict on the test data with the retrained model\n",
        "y_pred = best_linear_svc.predict(X_test)\n",
        "\n",
        "# Evaluate the optimized model\n",
        "accuracy = accuracy_score(y_test, y_pred)\n",
        "class_report = classification_report(y_test, y_pred)\n",
        "\n",
        "# Print the evaluation results\n",
        "print(f\"Optimized Model Accuracy: {accuracy:.4f}\")\n",
        "print(\"Classification Report:\\n\", class_report)\n",
        "\n",
        "# Print the best parameters\n",
        "print(\"Best Parameters Found by Randomized Search:\", random_search_svc.best_params_)\n"
      ],
      "metadata": {
        "colab": {
          "base_uri": "https://localhost:8080/"
        },
        "id": "dDkgPpvc1T_l",
        "outputId": "baca2192-9c1c-46d7-9486-f0cb1ade1f3b"
      },
      "execution_count": null,
      "outputs": [
        {
          "output_type": "stream",
          "name": "stdout",
          "text": [
            "Fitting 3 folds for each of 10 candidates, totalling 30 fits\n",
            "Optimized Model Accuracy: 0.7836\n",
            "Classification Report:\n",
            "               precision    recall  f1-score   support\n",
            "\n",
            "           0       0.80      0.76      0.78    159494\n",
            "           1       0.77      0.81      0.79    160506\n",
            "\n",
            "    accuracy                           0.78    320000\n",
            "   macro avg       0.78      0.78      0.78    320000\n",
            "weighted avg       0.78      0.78      0.78    320000\n",
            "\n",
            "Best Parameters Found by Randomized Search: {'C': 0.39079671568228835}\n"
          ]
        }
      ]
    },
    {
      "cell_type": "markdown",
      "source": [
        "Extra trial - Optimization of Logistic Regression:\n",
        "\n",
        "- We will optimize the regularization strength (C) using 5-fold cross-validation, l1 and l2 penalty."
      ],
      "metadata": {
        "id": "rtoh0azsuPyH"
      }
    },
    {
      "cell_type": "code",
      "source": [
        "from sklearn.linear_model import LogisticRegression\n",
        "from sklearn.model_selection import GridSearchCV\n",
        "from sklearn.metrics import accuracy_score, classification_report\n",
        "\n",
        "# Define a logistic regression model\n",
        "logreg = LogisticRegression(random_state=42, max_iter=1000)\n",
        "\n",
        "# Define the parameter grid\n",
        "param_grid = {\n",
        "    'C': np.logspace(-4, 4, 20),  # Explore a wide range of regularization strengths\n",
        "    'penalty': ['l1', 'l2'],  # L1 and L2 regularization\n",
        "    'solver': ['liblinear']  # Solver compatible with L1 penalty\n",
        "}\n",
        "\n",
        "# Setup GridSearchCV\n",
        "grid_search = GridSearchCV(logreg, param_grid, cv=5, scoring='accuracy', verbose=1)\n",
        "\n",
        "# Fit the model\n",
        "grid_search.fit(X_train_tfidf, y_train)\n",
        "\n",
        "# Best parameters and best score\n",
        "print(f\"Best Parameters: {grid_search.best_params_}\")\n",
        "print(f\"Best Accuracy: {grid_search.best_score_}\")\n",
        "\n",
        "# Predict on the test set with the best parameters\n",
        "logreg_pred = grid_search.predict(X_test_tfidf)\n",
        "\n",
        "# Evaluate the model\n",
        "print(\"Logistic Regression Accuracy:\", accuracy_score(y_test, logreg_pred))\n",
        "print(classification_report(y_test, logreg_pred))"
      ],
      "metadata": {
        "id": "ogwvOyB79kce",
        "colab": {
          "base_uri": "https://localhost:8080/"
        },
        "outputId": "e4727cc9-9011-4d40-fc42-94568617fb63"
      },
      "execution_count": null,
      "outputs": [
        {
          "output_type": "stream",
          "name": "stdout",
          "text": [
            "Fitting 5 folds for each of 40 candidates, totalling 200 fits\n",
            "Best Parameters: {'C': 0.615848211066026, 'penalty': 'l1', 'solver': 'liblinear'}\n",
            "Best Accuracy: 0.78439765625\n",
            "Logistic Regression Accuracy: 0.784846875\n",
            "              precision    recall  f1-score   support\n",
            "\n",
            "           0       0.80      0.76      0.78    159494\n",
            "           1       0.77      0.81      0.79    160506\n",
            "\n",
            "    accuracy                           0.78    320000\n",
            "   macro avg       0.79      0.78      0.78    320000\n",
            "weighted avg       0.79      0.78      0.78    320000\n",
            "\n"
          ]
        }
      ]
    },
    {
      "cell_type": "markdown",
      "source": [
        "After optimizing the models, we did not achieve any significant improvement in accuracy. However, it's worth noting that training such optimized models required more computation time and increased complexity."
      ],
      "metadata": {
        "id": "GnkWSTgAEmmN"
      }
    },
    {
      "cell_type": "markdown",
      "source": [
        "# 7. Sentiment Predictions"
      ],
      "metadata": {
        "id": "DxQu040NFUyd"
      }
    },
    {
      "cell_type": "markdown",
      "source": [
        "Since the ANN model exhibited the highest accuracy, we chose it as the base model to conduct sentiment predictions, and subsequently stored it in a pickle file."
      ],
      "metadata": {
        "id": "FP1AWwcHFm5V"
      }
    },
    {
      "cell_type": "code",
      "source": [
        "# Import the required modules\n",
        "from sklearn.neural_network import MLPClassifier\n",
        "from sklearn.feature_extraction.text import TfidfVectorizer\n",
        "from sklearn.pipeline import Pipeline\n",
        "import joblib"
      ],
      "metadata": {
        "id": "8GjMWiXn3Ict"
      },
      "execution_count": null,
      "outputs": []
    },
    {
      "cell_type": "code",
      "source": [
        "# Load the trained model\n",
        "joblib.dump(mlp, 'ann_model_pipeline.pkl')"
      ],
      "metadata": {
        "colab": {
          "base_uri": "https://localhost:8080/"
        },
        "id": "v548cxp1350t",
        "outputId": "a2e0e1ae-2275-4c2d-cd95-265598abafab"
      },
      "execution_count": null,
      "outputs": [
        {
          "output_type": "execute_result",
          "data": {
            "text/plain": [
              "['ann_model_pipeline.pkl']"
            ]
          },
          "metadata": {},
          "execution_count": 54
        }
      ]
    },
    {
      "cell_type": "code",
      "source": [
        "# Based on the words can we predict the sentiment to be positive or negative?\n",
        "\n",
        "# Assuming 'text' contains the preprocessed text\n",
        "def predict_sentiment(text):\n",
        "  # Vectorize the input text using the same TfidfVectorizer used for training\n",
        "  tfidf_vector = tfidf_vectorizer.transform([text])\n",
        "\n",
        "  # Predict the sentiment using the trained model\n",
        "  prediction = mlp.predict(tfidf_vector)\n",
        "\n",
        "  # Map the prediction to a sentiment label\n",
        "  if prediction == 0:\n",
        "    return 'Negative'\n",
        "  else:\n",
        "    return 'Positive'"
      ],
      "metadata": {
        "id": "Q_NkHPuW2CuO"
      },
      "execution_count": null,
      "outputs": []
    },
    {
      "cell_type": "code",
      "source": [
        "# Example 1 usage:\n",
        "text = \"I have played soccer today and I scored a hat-trick\"\n",
        "sentiment = predict_sentiment(text)\n",
        "print(\"Sentiment:\", sentiment)"
      ],
      "metadata": {
        "id": "OSBsO22uA5yv",
        "colab": {
          "base_uri": "https://localhost:8080/"
        },
        "outputId": "5559465f-90af-420d-ef53-1df4d9954856"
      },
      "execution_count": null,
      "outputs": [
        {
          "output_type": "stream",
          "name": "stdout",
          "text": [
            "Sentiment: Positive\n"
          ]
        }
      ]
    },
    {
      "cell_type": "code",
      "source": [
        "# Example 2 usage:\n",
        "text = \"There is traffic outside\"\n",
        "sentiment = predict_sentiment(text)\n",
        "print(\"Sentiment:\", sentiment)"
      ],
      "metadata": {
        "colab": {
          "base_uri": "https://localhost:8080/"
        },
        "id": "4mFQsv7WAhU9",
        "outputId": "a24dc50e-2e61-4456-a1f3-18fca674ba40"
      },
      "execution_count": null,
      "outputs": [
        {
          "output_type": "stream",
          "name": "stdout",
          "text": [
            "Sentiment: Negative\n"
          ]
        }
      ]
    },
    {
      "cell_type": "markdown",
      "source": [
        "# 8. Conclusion"
      ],
      "metadata": {
        "id": "WxEFr6Ku7vrG"
      }
    },
    {
      "cell_type": "markdown",
      "source": [
        "This project successfully built a robust sentiment analysis pipeline and gained valuable insights into machine learning techniques for text classification.\n",
        "\n",
        "We explored various supervised and unsupervised machine learning models to predict sentiments in tweets. The Artificial Neural Network (ANN) emerged as the top performer, achieving the highest accuracy among the models tested and optimized. For model selection, it is also essential to consider the computational costs and complexities associated with the models.\n",
        "\n",
        "Sentiment analysis on tweets holds significant importance in understanding public opinion, market trends, and brand perception in real-time.\n",
        "\n",
        "Moving forward, further experimentation with different feature engineering techniques and model architectures could potentially enhance predictive performance. Furthermore, integrating the model into a web application or API can support real-time sentiment prediction.\n"
      ],
      "metadata": {
        "id": "ScmBzCMgFVPV"
      }
    }
  ],
  "metadata": {
    "colab": {
      "provenance": []
    },
    "kernelspec": {
      "display_name": "Python 3",
      "name": "python3"
    },
    "language_info": {
      "name": "python"
    }
  },
  "nbformat": 4,
  "nbformat_minor": 0
}